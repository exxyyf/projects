{
 "cells": [
  {
   "cell_type": "markdown",
   "id": "d3ac226e",
   "metadata": {
    "deletable": false,
    "editable": false,
    "id": "c81daeeb"
   },
   "source": [
    "# Исследование надежности заемщиков\n"
   ]
  },
  {
   "cell_type": "markdown",
   "id": "696ff927",
   "metadata": {
    "deletable": false,
    "editable": false,
    "id": "827c20bf"
   },
   "source": [
    "Во второй части проекта вы выполните шаги 3 и 4. Их вручную проверит ревьюер.\n",
    "Чтобы вам не пришлось писать код заново для шагов 1 и 2, мы добавили авторские решения в ячейки с кодом. \n",
    "\n"
   ]
  },
  {
   "cell_type": "markdown",
   "id": "93845315",
   "metadata": {
    "deletable": false,
    "editable": false,
    "id": "744d7639"
   },
   "source": [
    "## Откройте таблицу и изучите общую информацию о данных"
   ]
  },
  {
   "cell_type": "markdown",
   "id": "4bd2ef92",
   "metadata": {
    "deletable": false,
    "editable": false,
    "id": "e7a14c31"
   },
   "source": [
    "**Задание 1. Импортируйте библиотеку pandas. Считайте данные из csv-файла в датафрейм и сохраните в переменную `data`. Путь к файлу:**\n",
    "\n",
    "`/datasets/data.csv`"
   ]
  },
  {
   "cell_type": "code",
   "execution_count": 1,
   "id": "3e03d1c6",
   "metadata": {
    "deletable": false,
    "id": "7bcf75c9"
   },
   "outputs": [],
   "source": [
    "import pandas as pd\n",
    "\n",
    "try:\n",
    "    data = pd.read_csv('/datasets/data.csv')\n",
    "except:\n",
    "    data = pd.read_csv('https://code.s3.yandex.net/datasets/data.csv')"
   ]
  },
  {
   "cell_type": "markdown",
   "id": "db07d410",
   "metadata": {
    "deletable": false,
    "editable": false,
    "id": "b8038fe3"
   },
   "source": [
    "**Задание 2. Выведите первые 20 строчек датафрейма `data` на экран.**"
   ]
  },
  {
   "cell_type": "code",
   "execution_count": 2,
   "id": "7ffc40b8",
   "metadata": {
    "deletable": false,
    "id": "2a7cab99",
    "outputId": "1a8f3ef2-d323-4ec2-ddf7-89670b5944c4"
   },
   "outputs": [
    {
     "data": {
      "text/html": [
       "<div>\n",
       "<style scoped>\n",
       "    .dataframe tbody tr th:only-of-type {\n",
       "        vertical-align: middle;\n",
       "    }\n",
       "\n",
       "    .dataframe tbody tr th {\n",
       "        vertical-align: top;\n",
       "    }\n",
       "\n",
       "    .dataframe thead th {\n",
       "        text-align: right;\n",
       "    }\n",
       "</style>\n",
       "<table border=\"1\" class=\"dataframe\">\n",
       "  <thead>\n",
       "    <tr style=\"text-align: right;\">\n",
       "      <th></th>\n",
       "      <th>children</th>\n",
       "      <th>days_employed</th>\n",
       "      <th>dob_years</th>\n",
       "      <th>education</th>\n",
       "      <th>education_id</th>\n",
       "      <th>family_status</th>\n",
       "      <th>family_status_id</th>\n",
       "      <th>gender</th>\n",
       "      <th>income_type</th>\n",
       "      <th>debt</th>\n",
       "      <th>total_income</th>\n",
       "      <th>purpose</th>\n",
       "    </tr>\n",
       "  </thead>\n",
       "  <tbody>\n",
       "    <tr>\n",
       "      <th>0</th>\n",
       "      <td>1</td>\n",
       "      <td>-8437.673028</td>\n",
       "      <td>42</td>\n",
       "      <td>высшее</td>\n",
       "      <td>0</td>\n",
       "      <td>женат / замужем</td>\n",
       "      <td>0</td>\n",
       "      <td>F</td>\n",
       "      <td>сотрудник</td>\n",
       "      <td>0</td>\n",
       "      <td>253875.639453</td>\n",
       "      <td>покупка жилья</td>\n",
       "    </tr>\n",
       "    <tr>\n",
       "      <th>1</th>\n",
       "      <td>1</td>\n",
       "      <td>-4024.803754</td>\n",
       "      <td>36</td>\n",
       "      <td>среднее</td>\n",
       "      <td>1</td>\n",
       "      <td>женат / замужем</td>\n",
       "      <td>0</td>\n",
       "      <td>F</td>\n",
       "      <td>сотрудник</td>\n",
       "      <td>0</td>\n",
       "      <td>112080.014102</td>\n",
       "      <td>приобретение автомобиля</td>\n",
       "    </tr>\n",
       "    <tr>\n",
       "      <th>2</th>\n",
       "      <td>0</td>\n",
       "      <td>-5623.422610</td>\n",
       "      <td>33</td>\n",
       "      <td>Среднее</td>\n",
       "      <td>1</td>\n",
       "      <td>женат / замужем</td>\n",
       "      <td>0</td>\n",
       "      <td>M</td>\n",
       "      <td>сотрудник</td>\n",
       "      <td>0</td>\n",
       "      <td>145885.952297</td>\n",
       "      <td>покупка жилья</td>\n",
       "    </tr>\n",
       "    <tr>\n",
       "      <th>3</th>\n",
       "      <td>3</td>\n",
       "      <td>-4124.747207</td>\n",
       "      <td>32</td>\n",
       "      <td>среднее</td>\n",
       "      <td>1</td>\n",
       "      <td>женат / замужем</td>\n",
       "      <td>0</td>\n",
       "      <td>M</td>\n",
       "      <td>сотрудник</td>\n",
       "      <td>0</td>\n",
       "      <td>267628.550329</td>\n",
       "      <td>дополнительное образование</td>\n",
       "    </tr>\n",
       "    <tr>\n",
       "      <th>4</th>\n",
       "      <td>0</td>\n",
       "      <td>340266.072047</td>\n",
       "      <td>53</td>\n",
       "      <td>среднее</td>\n",
       "      <td>1</td>\n",
       "      <td>гражданский брак</td>\n",
       "      <td>1</td>\n",
       "      <td>F</td>\n",
       "      <td>пенсионер</td>\n",
       "      <td>0</td>\n",
       "      <td>158616.077870</td>\n",
       "      <td>сыграть свадьбу</td>\n",
       "    </tr>\n",
       "    <tr>\n",
       "      <th>5</th>\n",
       "      <td>0</td>\n",
       "      <td>-926.185831</td>\n",
       "      <td>27</td>\n",
       "      <td>высшее</td>\n",
       "      <td>0</td>\n",
       "      <td>гражданский брак</td>\n",
       "      <td>1</td>\n",
       "      <td>M</td>\n",
       "      <td>компаньон</td>\n",
       "      <td>0</td>\n",
       "      <td>255763.565419</td>\n",
       "      <td>покупка жилья</td>\n",
       "    </tr>\n",
       "    <tr>\n",
       "      <th>6</th>\n",
       "      <td>0</td>\n",
       "      <td>-2879.202052</td>\n",
       "      <td>43</td>\n",
       "      <td>высшее</td>\n",
       "      <td>0</td>\n",
       "      <td>женат / замужем</td>\n",
       "      <td>0</td>\n",
       "      <td>F</td>\n",
       "      <td>компаньон</td>\n",
       "      <td>0</td>\n",
       "      <td>240525.971920</td>\n",
       "      <td>операции с жильем</td>\n",
       "    </tr>\n",
       "    <tr>\n",
       "      <th>7</th>\n",
       "      <td>0</td>\n",
       "      <td>-152.779569</td>\n",
       "      <td>50</td>\n",
       "      <td>СРЕДНЕЕ</td>\n",
       "      <td>1</td>\n",
       "      <td>женат / замужем</td>\n",
       "      <td>0</td>\n",
       "      <td>M</td>\n",
       "      <td>сотрудник</td>\n",
       "      <td>0</td>\n",
       "      <td>135823.934197</td>\n",
       "      <td>образование</td>\n",
       "    </tr>\n",
       "    <tr>\n",
       "      <th>8</th>\n",
       "      <td>2</td>\n",
       "      <td>-6929.865299</td>\n",
       "      <td>35</td>\n",
       "      <td>ВЫСШЕЕ</td>\n",
       "      <td>0</td>\n",
       "      <td>гражданский брак</td>\n",
       "      <td>1</td>\n",
       "      <td>F</td>\n",
       "      <td>сотрудник</td>\n",
       "      <td>0</td>\n",
       "      <td>95856.832424</td>\n",
       "      <td>на проведение свадьбы</td>\n",
       "    </tr>\n",
       "    <tr>\n",
       "      <th>9</th>\n",
       "      <td>0</td>\n",
       "      <td>-2188.756445</td>\n",
       "      <td>41</td>\n",
       "      <td>среднее</td>\n",
       "      <td>1</td>\n",
       "      <td>женат / замужем</td>\n",
       "      <td>0</td>\n",
       "      <td>M</td>\n",
       "      <td>сотрудник</td>\n",
       "      <td>0</td>\n",
       "      <td>144425.938277</td>\n",
       "      <td>покупка жилья для семьи</td>\n",
       "    </tr>\n",
       "    <tr>\n",
       "      <th>10</th>\n",
       "      <td>2</td>\n",
       "      <td>-4171.483647</td>\n",
       "      <td>36</td>\n",
       "      <td>высшее</td>\n",
       "      <td>0</td>\n",
       "      <td>женат / замужем</td>\n",
       "      <td>0</td>\n",
       "      <td>M</td>\n",
       "      <td>компаньон</td>\n",
       "      <td>0</td>\n",
       "      <td>113943.491460</td>\n",
       "      <td>покупка недвижимости</td>\n",
       "    </tr>\n",
       "    <tr>\n",
       "      <th>11</th>\n",
       "      <td>0</td>\n",
       "      <td>-792.701887</td>\n",
       "      <td>40</td>\n",
       "      <td>среднее</td>\n",
       "      <td>1</td>\n",
       "      <td>женат / замужем</td>\n",
       "      <td>0</td>\n",
       "      <td>F</td>\n",
       "      <td>сотрудник</td>\n",
       "      <td>0</td>\n",
       "      <td>77069.234271</td>\n",
       "      <td>покупка коммерческой недвижимости</td>\n",
       "    </tr>\n",
       "    <tr>\n",
       "      <th>12</th>\n",
       "      <td>0</td>\n",
       "      <td>NaN</td>\n",
       "      <td>65</td>\n",
       "      <td>среднее</td>\n",
       "      <td>1</td>\n",
       "      <td>гражданский брак</td>\n",
       "      <td>1</td>\n",
       "      <td>M</td>\n",
       "      <td>пенсионер</td>\n",
       "      <td>0</td>\n",
       "      <td>NaN</td>\n",
       "      <td>сыграть свадьбу</td>\n",
       "    </tr>\n",
       "    <tr>\n",
       "      <th>13</th>\n",
       "      <td>0</td>\n",
       "      <td>-1846.641941</td>\n",
       "      <td>54</td>\n",
       "      <td>неоконченное высшее</td>\n",
       "      <td>2</td>\n",
       "      <td>женат / замужем</td>\n",
       "      <td>0</td>\n",
       "      <td>F</td>\n",
       "      <td>сотрудник</td>\n",
       "      <td>0</td>\n",
       "      <td>130458.228857</td>\n",
       "      <td>приобретение автомобиля</td>\n",
       "    </tr>\n",
       "    <tr>\n",
       "      <th>14</th>\n",
       "      <td>0</td>\n",
       "      <td>-1844.956182</td>\n",
       "      <td>56</td>\n",
       "      <td>высшее</td>\n",
       "      <td>0</td>\n",
       "      <td>гражданский брак</td>\n",
       "      <td>1</td>\n",
       "      <td>F</td>\n",
       "      <td>компаньон</td>\n",
       "      <td>1</td>\n",
       "      <td>165127.911772</td>\n",
       "      <td>покупка жилой недвижимости</td>\n",
       "    </tr>\n",
       "    <tr>\n",
       "      <th>15</th>\n",
       "      <td>1</td>\n",
       "      <td>-972.364419</td>\n",
       "      <td>26</td>\n",
       "      <td>среднее</td>\n",
       "      <td>1</td>\n",
       "      <td>женат / замужем</td>\n",
       "      <td>0</td>\n",
       "      <td>F</td>\n",
       "      <td>сотрудник</td>\n",
       "      <td>0</td>\n",
       "      <td>116820.904450</td>\n",
       "      <td>строительство собственной недвижимости</td>\n",
       "    </tr>\n",
       "    <tr>\n",
       "      <th>16</th>\n",
       "      <td>0</td>\n",
       "      <td>-1719.934226</td>\n",
       "      <td>35</td>\n",
       "      <td>среднее</td>\n",
       "      <td>1</td>\n",
       "      <td>женат / замужем</td>\n",
       "      <td>0</td>\n",
       "      <td>F</td>\n",
       "      <td>сотрудник</td>\n",
       "      <td>0</td>\n",
       "      <td>289202.704229</td>\n",
       "      <td>недвижимость</td>\n",
       "    </tr>\n",
       "    <tr>\n",
       "      <th>17</th>\n",
       "      <td>0</td>\n",
       "      <td>-2369.999720</td>\n",
       "      <td>33</td>\n",
       "      <td>высшее</td>\n",
       "      <td>0</td>\n",
       "      <td>гражданский брак</td>\n",
       "      <td>1</td>\n",
       "      <td>M</td>\n",
       "      <td>сотрудник</td>\n",
       "      <td>0</td>\n",
       "      <td>90410.586745</td>\n",
       "      <td>строительство недвижимости</td>\n",
       "    </tr>\n",
       "    <tr>\n",
       "      <th>18</th>\n",
       "      <td>0</td>\n",
       "      <td>400281.136913</td>\n",
       "      <td>53</td>\n",
       "      <td>среднее</td>\n",
       "      <td>1</td>\n",
       "      <td>вдовец / вдова</td>\n",
       "      <td>2</td>\n",
       "      <td>F</td>\n",
       "      <td>пенсионер</td>\n",
       "      <td>0</td>\n",
       "      <td>56823.777243</td>\n",
       "      <td>на покупку подержанного автомобиля</td>\n",
       "    </tr>\n",
       "    <tr>\n",
       "      <th>19</th>\n",
       "      <td>0</td>\n",
       "      <td>-10038.818549</td>\n",
       "      <td>48</td>\n",
       "      <td>СРЕДНЕЕ</td>\n",
       "      <td>1</td>\n",
       "      <td>в разводе</td>\n",
       "      <td>3</td>\n",
       "      <td>F</td>\n",
       "      <td>сотрудник</td>\n",
       "      <td>0</td>\n",
       "      <td>242831.107982</td>\n",
       "      <td>на покупку своего автомобиля</td>\n",
       "    </tr>\n",
       "  </tbody>\n",
       "</table>\n",
       "</div>"
      ],
      "text/plain": [
       "    children  days_employed  dob_years            education  education_id  \\\n",
       "0          1   -8437.673028         42               высшее             0   \n",
       "1          1   -4024.803754         36              среднее             1   \n",
       "2          0   -5623.422610         33              Среднее             1   \n",
       "3          3   -4124.747207         32              среднее             1   \n",
       "4          0  340266.072047         53              среднее             1   \n",
       "5          0    -926.185831         27               высшее             0   \n",
       "6          0   -2879.202052         43               высшее             0   \n",
       "7          0    -152.779569         50              СРЕДНЕЕ             1   \n",
       "8          2   -6929.865299         35               ВЫСШЕЕ             0   \n",
       "9          0   -2188.756445         41              среднее             1   \n",
       "10         2   -4171.483647         36               высшее             0   \n",
       "11         0    -792.701887         40              среднее             1   \n",
       "12         0            NaN         65              среднее             1   \n",
       "13         0   -1846.641941         54  неоконченное высшее             2   \n",
       "14         0   -1844.956182         56               высшее             0   \n",
       "15         1    -972.364419         26              среднее             1   \n",
       "16         0   -1719.934226         35              среднее             1   \n",
       "17         0   -2369.999720         33               высшее             0   \n",
       "18         0  400281.136913         53              среднее             1   \n",
       "19         0  -10038.818549         48              СРЕДНЕЕ             1   \n",
       "\n",
       "       family_status  family_status_id gender income_type  debt  \\\n",
       "0    женат / замужем                 0      F   сотрудник     0   \n",
       "1    женат / замужем                 0      F   сотрудник     0   \n",
       "2    женат / замужем                 0      M   сотрудник     0   \n",
       "3    женат / замужем                 0      M   сотрудник     0   \n",
       "4   гражданский брак                 1      F   пенсионер     0   \n",
       "5   гражданский брак                 1      M   компаньон     0   \n",
       "6    женат / замужем                 0      F   компаньон     0   \n",
       "7    женат / замужем                 0      M   сотрудник     0   \n",
       "8   гражданский брак                 1      F   сотрудник     0   \n",
       "9    женат / замужем                 0      M   сотрудник     0   \n",
       "10   женат / замужем                 0      M   компаньон     0   \n",
       "11   женат / замужем                 0      F   сотрудник     0   \n",
       "12  гражданский брак                 1      M   пенсионер     0   \n",
       "13   женат / замужем                 0      F   сотрудник     0   \n",
       "14  гражданский брак                 1      F   компаньон     1   \n",
       "15   женат / замужем                 0      F   сотрудник     0   \n",
       "16   женат / замужем                 0      F   сотрудник     0   \n",
       "17  гражданский брак                 1      M   сотрудник     0   \n",
       "18    вдовец / вдова                 2      F   пенсионер     0   \n",
       "19         в разводе                 3      F   сотрудник     0   \n",
       "\n",
       "     total_income                                 purpose  \n",
       "0   253875.639453                           покупка жилья  \n",
       "1   112080.014102                 приобретение автомобиля  \n",
       "2   145885.952297                           покупка жилья  \n",
       "3   267628.550329              дополнительное образование  \n",
       "4   158616.077870                         сыграть свадьбу  \n",
       "5   255763.565419                           покупка жилья  \n",
       "6   240525.971920                       операции с жильем  \n",
       "7   135823.934197                             образование  \n",
       "8    95856.832424                   на проведение свадьбы  \n",
       "9   144425.938277                 покупка жилья для семьи  \n",
       "10  113943.491460                    покупка недвижимости  \n",
       "11   77069.234271       покупка коммерческой недвижимости  \n",
       "12            NaN                         сыграть свадьбу  \n",
       "13  130458.228857                 приобретение автомобиля  \n",
       "14  165127.911772              покупка жилой недвижимости  \n",
       "15  116820.904450  строительство собственной недвижимости  \n",
       "16  289202.704229                            недвижимость  \n",
       "17   90410.586745              строительство недвижимости  \n",
       "18   56823.777243      на покупку подержанного автомобиля  \n",
       "19  242831.107982            на покупку своего автомобиля  "
      ]
     },
     "execution_count": 2,
     "metadata": {},
     "output_type": "execute_result"
    }
   ],
   "source": [
    "data.head(20)"
   ]
  },
  {
   "cell_type": "markdown",
   "id": "584e845b",
   "metadata": {
    "deletable": false,
    "editable": false,
    "id": "1c12e233"
   },
   "source": [
    "**Задание 3. Выведите основную информацию о датафрейме с помощью метода `info()`.**"
   ]
  },
  {
   "cell_type": "code",
   "execution_count": 3,
   "id": "66ede132",
   "metadata": {
    "deletable": false,
    "id": "2b757bca",
    "outputId": "15376089-8dad-46c9-b520-c05248d43158"
   },
   "outputs": [
    {
     "name": "stdout",
     "output_type": "stream",
     "text": [
      "<class 'pandas.core.frame.DataFrame'>\n",
      "RangeIndex: 21525 entries, 0 to 21524\n",
      "Data columns (total 12 columns):\n",
      " #   Column            Non-Null Count  Dtype  \n",
      "---  ------            --------------  -----  \n",
      " 0   children          21525 non-null  int64  \n",
      " 1   days_employed     19351 non-null  float64\n",
      " 2   dob_years         21525 non-null  int64  \n",
      " 3   education         21525 non-null  object \n",
      " 4   education_id      21525 non-null  int64  \n",
      " 5   family_status     21525 non-null  object \n",
      " 6   family_status_id  21525 non-null  int64  \n",
      " 7   gender            21525 non-null  object \n",
      " 8   income_type       21525 non-null  object \n",
      " 9   debt              21525 non-null  int64  \n",
      " 10  total_income      19351 non-null  float64\n",
      " 11  purpose           21525 non-null  object \n",
      "dtypes: float64(2), int64(5), object(5)\n",
      "memory usage: 2.0+ MB\n"
     ]
    }
   ],
   "source": [
    "data.info()"
   ]
  },
  {
   "cell_type": "markdown",
   "id": "c18abeed",
   "metadata": {
    "deletable": false,
    "editable": false,
    "id": "333ec665"
   },
   "source": [
    "## Предобработка данных"
   ]
  },
  {
   "cell_type": "markdown",
   "id": "eafaf296",
   "metadata": {
    "deletable": false,
    "editable": false,
    "id": "02d92d53"
   },
   "source": [
    "### Удаление пропусков"
   ]
  },
  {
   "cell_type": "markdown",
   "id": "60584526",
   "metadata": {
    "deletable": false,
    "editable": false,
    "id": "cd84967c"
   },
   "source": [
    "**Задание 4. Выведите количество пропущенных значений для каждого столбца. Используйте комбинацию двух методов.**"
   ]
  },
  {
   "cell_type": "code",
   "execution_count": 4,
   "id": "761ec96a",
   "metadata": {
    "deletable": false,
    "id": "7f9b2309",
    "outputId": "81f4d817-781c-465c-ed15-91ce4446810d"
   },
   "outputs": [
    {
     "data": {
      "text/plain": [
       "children               0\n",
       "days_employed       2174\n",
       "dob_years              0\n",
       "education              0\n",
       "education_id           0\n",
       "family_status          0\n",
       "family_status_id       0\n",
       "gender                 0\n",
       "income_type            0\n",
       "debt                   0\n",
       "total_income        2174\n",
       "purpose                0\n",
       "dtype: int64"
      ]
     },
     "execution_count": 4,
     "metadata": {},
     "output_type": "execute_result"
    }
   ],
   "source": [
    "data.isna().sum()"
   ]
  },
  {
   "cell_type": "markdown",
   "id": "9acd579a",
   "metadata": {
    "deletable": false,
    "editable": false,
    "id": "db86e27b"
   },
   "source": [
    "**Задание 5. В двух столбцах есть пропущенные значения. Один из них — `days_employed`. Пропуски в этом столбце вы обработаете на следующем этапе. Другой столбец с пропущенными значениями — `total_income` — хранит данные о доходах. На сумму дохода сильнее всего влияет тип занятости, поэтому заполнить пропуски в этом столбце нужно медианным значением по каждому типу из столбца `income_type`. Например, у человека с типом занятости `сотрудник` пропуск в столбце `total_income` должен быть заполнен медианным доходом среди всех записей с тем же типом.**"
   ]
  },
  {
   "cell_type": "code",
   "execution_count": 5,
   "id": "b70dc24e",
   "metadata": {
    "deletable": false,
    "id": "42006a93"
   },
   "outputs": [],
   "source": [
    "for t in data['income_type'].unique():\n",
    "    data.loc[(data['income_type'] == t) & (data['total_income'].isna()), 'total_income'] = \\\n",
    "    data.loc[(data['income_type'] == t), 'total_income'].median()"
   ]
  },
  {
   "cell_type": "markdown",
   "id": "948dbf82",
   "metadata": {
    "deletable": false,
    "editable": false,
    "id": "89da5ece"
   },
   "source": [
    "### Обработка аномальных значений"
   ]
  },
  {
   "cell_type": "markdown",
   "id": "ee6ca076",
   "metadata": {
    "deletable": false,
    "editable": false,
    "id": "57964554"
   },
   "source": [
    "**Задание 6. В данных могут встречаться артефакты (аномалии) — значения, которые не отражают действительность и появились по какой-то ошибке. таким артефактом будет отрицательное количество дней трудового стажа в столбце `days_employed`. Для реальных данных это нормально. Обработайте значения в этом столбце: замените все отрицательные значения положительными с помощью метода `abs()`.**"
   ]
  },
  {
   "cell_type": "code",
   "execution_count": 6,
   "id": "be3cd0fe",
   "metadata": {
    "deletable": false,
    "id": "f6f055bf"
   },
   "outputs": [],
   "source": [
    "data['days_employed'] = data['days_employed'].abs()"
   ]
  },
  {
   "cell_type": "markdown",
   "id": "f3e78f13",
   "metadata": {
    "deletable": false,
    "editable": false,
    "id": "6107dd2f"
   },
   "source": [
    "**Задание 7. Для каждого типа занятости выведите медианное значение трудового стажа `days_employed` в днях.**"
   ]
  },
  {
   "cell_type": "code",
   "execution_count": 7,
   "id": "5b8efcde",
   "metadata": {
    "deletable": false,
    "id": "85a5faf6",
    "outputId": "801ef80e-522b-4668-f34e-565af7432bcf"
   },
   "outputs": [
    {
     "data": {
      "text/plain": [
       "income_type\n",
       "безработный        366413.652744\n",
       "в декрете            3296.759962\n",
       "госслужащий          2689.368353\n",
       "компаньон            1547.382223\n",
       "пенсионер          365213.306266\n",
       "предприниматель       520.848083\n",
       "сотрудник            1574.202821\n",
       "студент               578.751554\n",
       "Name: days_employed, dtype: float64"
      ]
     },
     "execution_count": 7,
     "metadata": {},
     "output_type": "execute_result"
    }
   ],
   "source": [
    "data.groupby('income_type')['days_employed'].agg('median')"
   ]
  },
  {
   "cell_type": "markdown",
   "id": "e78c55f3",
   "metadata": {
    "deletable": false,
    "editable": false,
    "id": "38d1a030"
   },
   "source": [
    "У двух типов (безработные и пенсионеры) получатся аномально большие значения. Исправить такие значения сложно, поэтому оставьте их как есть. Тем более этот столбец не понадобится вам для исследования."
   ]
  },
  {
   "cell_type": "markdown",
   "id": "c1fd221f",
   "metadata": {
    "deletable": false,
    "editable": false,
    "id": "d8a9f147"
   },
   "source": [
    "**Задание 8. Выведите перечень уникальных значений столбца `children`.**"
   ]
  },
  {
   "cell_type": "code",
   "execution_count": 8,
   "id": "2a7857c7",
   "metadata": {
    "deletable": false,
    "id": "ef5056eb",
    "outputId": "6975b15c-7f95-4697-d16d-a0c79b657b03"
   },
   "outputs": [
    {
     "data": {
      "text/plain": [
       "array([ 1,  0,  3,  2, -1,  4, 20,  5])"
      ]
     },
     "execution_count": 8,
     "metadata": {},
     "output_type": "execute_result"
    }
   ],
   "source": [
    "data['children'].unique()"
   ]
  },
  {
   "cell_type": "markdown",
   "id": "3b0f09b7",
   "metadata": {
    "deletable": false,
    "editable": false,
    "id": "40b9ebf2"
   },
   "source": [
    "**Задание 9. В столбце `children` есть два аномальных значения. Удалите строки, в которых встречаются такие аномальные значения из датафрейма `data`.**"
   ]
  },
  {
   "cell_type": "code",
   "execution_count": 9,
   "id": "a98f7714",
   "metadata": {
    "deletable": false,
    "id": "3ff9801d"
   },
   "outputs": [],
   "source": [
    "data = data[(data['children'] != -1) & (data['children'] != 20)]"
   ]
  },
  {
   "cell_type": "markdown",
   "id": "d051b724",
   "metadata": {
    "deletable": false,
    "editable": false,
    "id": "bbc4d0ce"
   },
   "source": [
    "**Задание 10. Ещё раз выведите перечень уникальных значений столбца `children`, чтобы убедиться, что артефакты удалены.**"
   ]
  },
  {
   "cell_type": "code",
   "execution_count": 10,
   "id": "d59ffed4",
   "metadata": {
    "deletable": false,
    "id": "ad4fa8b7",
    "outputId": "b2097101-d49d-44d9-901b-32a65c9463d1"
   },
   "outputs": [
    {
     "data": {
      "text/plain": [
       "array([1, 0, 3, 2, 4, 5])"
      ]
     },
     "execution_count": 10,
     "metadata": {},
     "output_type": "execute_result"
    }
   ],
   "source": [
    "data['children'].unique()"
   ]
  },
  {
   "cell_type": "markdown",
   "id": "490fec74",
   "metadata": {
    "deletable": false,
    "editable": false,
    "id": "75440b63"
   },
   "source": [
    "### Удаление пропусков (продолжение)"
   ]
  },
  {
   "cell_type": "markdown",
   "id": "01f1e092",
   "metadata": {
    "deletable": false,
    "editable": false,
    "id": "f4ea573f"
   },
   "source": [
    "**Задание 11. Заполните пропуски в столбце `days_employed` медианными значениями по каждого типа занятости `income_type`.**"
   ]
  },
  {
   "cell_type": "code",
   "execution_count": 11,
   "id": "c60d2834",
   "metadata": {
    "deletable": false,
    "id": "af6b1a7e"
   },
   "outputs": [],
   "source": [
    "for t in data['income_type'].unique():\n",
    "    data.loc[(data['income_type'] == t) & (data['days_employed'].isna()), 'days_employed'] = \\\n",
    "    data.loc[(data['income_type'] == t), 'days_employed'].median()"
   ]
  },
  {
   "cell_type": "markdown",
   "id": "f3d07580",
   "metadata": {
    "deletable": false,
    "editable": false,
    "id": "2753f40d"
   },
   "source": [
    "**Задание 12. Убедитесь, что все пропуски заполнены. Проверьте себя и ещё раз выведите количество пропущенных значений для каждого столбца с помощью двух методов.**"
   ]
  },
  {
   "cell_type": "code",
   "execution_count": 12,
   "id": "957b13bb",
   "metadata": {
    "deletable": false,
    "id": "55f78bc2",
    "outputId": "8da1e4e1-358e-4e87-98c9-f261bce0a7b2"
   },
   "outputs": [
    {
     "data": {
      "text/plain": [
       "children            0\n",
       "days_employed       0\n",
       "dob_years           0\n",
       "education           0\n",
       "education_id        0\n",
       "family_status       0\n",
       "family_status_id    0\n",
       "gender              0\n",
       "income_type         0\n",
       "debt                0\n",
       "total_income        0\n",
       "purpose             0\n",
       "dtype: int64"
      ]
     },
     "execution_count": 12,
     "metadata": {},
     "output_type": "execute_result"
    }
   ],
   "source": [
    "data.isna().sum()"
   ]
  },
  {
   "cell_type": "markdown",
   "id": "aec33371",
   "metadata": {
    "deletable": false,
    "editable": false,
    "id": "ddc81e43"
   },
   "source": [
    "### Изменение типов данных"
   ]
  },
  {
   "cell_type": "markdown",
   "id": "f15c04ec",
   "metadata": {
    "deletable": false,
    "editable": false,
    "id": "42d19d24"
   },
   "source": [
    "**Задание 13. Замените вещественный тип данных в столбце `total_income` на целочисленный с помощью метода `astype()`.**"
   ]
  },
  {
   "cell_type": "code",
   "execution_count": 13,
   "id": "234bcad1",
   "metadata": {
    "deletable": false,
    "id": "920b65ad"
   },
   "outputs": [],
   "source": [
    "data['total_income'] = data['total_income'].astype(int)"
   ]
  },
  {
   "cell_type": "markdown",
   "id": "02e1e992",
   "metadata": {
    "deletable": false,
    "editable": false,
    "id": "80c420ba"
   },
   "source": [
    "### Обработка дубликатов"
   ]
  },
  {
   "cell_type": "markdown",
   "id": "efd392e5",
   "metadata": {
    "deletable": false,
    "editable": false
   },
   "source": [
    "**Задание 14. Обработайте неявные дубликаты в столбце `education`. В этом столбце есть одни и те же значения, но записанные по-разному: с использованием заглавных и строчных букв. Приведите их к нижнему регистру. Проверьте остальные столбцы.**"
   ]
  },
  {
   "cell_type": "code",
   "execution_count": 14,
   "id": "abc4b78f",
   "metadata": {
    "deletable": false
   },
   "outputs": [],
   "source": [
    "data['education'] = data['education'].str.lower()"
   ]
  },
  {
   "cell_type": "markdown",
   "id": "a5a0bfb8",
   "metadata": {
    "deletable": false,
    "editable": false,
    "id": "dc587695"
   },
   "source": [
    "**Задание 15. Выведите на экран количество строк-дубликатов в данных. Если такие строки присутствуют, удалите их.**"
   ]
  },
  {
   "cell_type": "code",
   "execution_count": 15,
   "id": "aaa3b13c",
   "metadata": {
    "deletable": false,
    "id": "3ee445e4",
    "outputId": "9684deba-1934-42d1-99e1-cda61740f822"
   },
   "outputs": [
    {
     "data": {
      "text/plain": [
       "71"
      ]
     },
     "execution_count": 15,
     "metadata": {},
     "output_type": "execute_result"
    }
   ],
   "source": [
    "data.duplicated().sum()"
   ]
  },
  {
   "cell_type": "code",
   "execution_count": 16,
   "id": "f7bf0a8d",
   "metadata": {
    "deletable": false,
    "id": "8575fe05"
   },
   "outputs": [],
   "source": [
    "data = data.drop_duplicates()"
   ]
  },
  {
   "cell_type": "markdown",
   "id": "8359e895",
   "metadata": {
    "deletable": false,
    "editable": false,
    "id": "9904cf55"
   },
   "source": [
    "### Категоризация данных"
   ]
  },
  {
   "cell_type": "markdown",
   "id": "61e6bcb6",
   "metadata": {
    "deletable": false,
    "editable": false,
    "id": "72fcc8a2"
   },
   "source": [
    "**Задание 16. На основании диапазонов, указанных ниже, создайте в датафрейме `data` столбец `total_income_category` с категориями:**\n",
    "\n",
    "- 0–30000 — `'E'`;\n",
    "- 30001–50000 — `'D'`;\n",
    "- 50001–200000 — `'C'`;\n",
    "- 200001–1000000 — `'B'`;\n",
    "- 1000001 и выше — `'A'`.\n",
    "\n",
    "\n",
    "**Например, кредитополучателю с доходом 25000 нужно назначить категорию `'E'`, а клиенту, получающему 235000, — `'B'`. Используйте собственную функцию с именем `categorize_income()` и метод `apply()`.**"
   ]
  },
  {
   "cell_type": "code",
   "execution_count": 17,
   "id": "c1966660",
   "metadata": {
    "deletable": false,
    "id": "e1771346"
   },
   "outputs": [],
   "source": [
    "def categorize_income(income):\n",
    "    try:\n",
    "        if 0 <= income <= 30000:\n",
    "            return 'E'\n",
    "        elif 30001 <= income <= 50000:\n",
    "            return 'D'\n",
    "        elif 50001 <= income <= 200000:\n",
    "            return 'C'\n",
    "        elif 200001 <= income <= 1000000:\n",
    "            return 'B'\n",
    "        elif income >= 1000001:\n",
    "            return 'A'\n",
    "    except:\n",
    "        pass"
   ]
  },
  {
   "cell_type": "code",
   "execution_count": 18,
   "id": "49ad990d",
   "metadata": {
    "deletable": false,
    "id": "d5f3586d"
   },
   "outputs": [],
   "source": [
    "data['total_income_category'] = data['total_income'].apply(categorize_income)"
   ]
  },
  {
   "cell_type": "markdown",
   "id": "ff5bf791",
   "metadata": {
    "deletable": false,
    "editable": false,
    "id": "dde49b5c"
   },
   "source": [
    "**Задание 17. Выведите на экран перечень уникальных целей взятия кредита из столбца `purpose`.**"
   ]
  },
  {
   "cell_type": "code",
   "execution_count": 19,
   "id": "205065ee",
   "metadata": {
    "deletable": false,
    "id": "f67ce9b3",
    "outputId": "673c12d9-7d7e-4ae0-9812-c622c89dd244"
   },
   "outputs": [
    {
     "data": {
      "text/plain": [
       "array(['покупка жилья', 'приобретение автомобиля',\n",
       "       'дополнительное образование', 'сыграть свадьбу',\n",
       "       'операции с жильем', 'образование', 'на проведение свадьбы',\n",
       "       'покупка жилья для семьи', 'покупка недвижимости',\n",
       "       'покупка коммерческой недвижимости', 'покупка жилой недвижимости',\n",
       "       'строительство собственной недвижимости', 'недвижимость',\n",
       "       'строительство недвижимости', 'на покупку подержанного автомобиля',\n",
       "       'на покупку своего автомобиля',\n",
       "       'операции с коммерческой недвижимостью',\n",
       "       'строительство жилой недвижимости', 'жилье',\n",
       "       'операции со своей недвижимостью', 'автомобили',\n",
       "       'заняться образованием', 'сделка с подержанным автомобилем',\n",
       "       'получение образования', 'автомобиль', 'свадьба',\n",
       "       'получение дополнительного образования', 'покупка своего жилья',\n",
       "       'операции с недвижимостью', 'получение высшего образования',\n",
       "       'свой автомобиль', 'сделка с автомобилем',\n",
       "       'профильное образование', 'высшее образование',\n",
       "       'покупка жилья для сдачи', 'на покупку автомобиля', 'ремонт жилью',\n",
       "       'заняться высшим образованием'], dtype=object)"
      ]
     },
     "execution_count": 19,
     "metadata": {},
     "output_type": "execute_result"
    }
   ],
   "source": [
    "data['purpose'].unique()"
   ]
  },
  {
   "cell_type": "markdown",
   "id": "dc6380a5",
   "metadata": {
    "deletable": false,
    "editable": false,
    "id": "85d0aef0"
   },
   "source": [
    "**Задание 18. Создайте функцию, которая на основании данных из столбца `purpose` сформирует новый столбец `purpose_category`, в который войдут следующие категории:**\n",
    "\n",
    "- `'операции с автомобилем'`,\n",
    "- `'операции с недвижимостью'`,\n",
    "- `'проведение свадьбы'`,\n",
    "- `'получение образования'`.\n",
    "\n",
    "**Например, если в столбце `purpose` находится подстрока `'на покупку автомобиля'`, то в столбце `purpose_category` должна появиться строка `'операции с автомобилем'`.**\n",
    "\n",
    "**Используйте собственную функцию с именем `categorize_purpose()` и метод `apply()`. Изучите данные в столбце `purpose` и определите, какие подстроки помогут вам правильно определить категорию.**"
   ]
  },
  {
   "cell_type": "code",
   "execution_count": 20,
   "id": "3d51be15",
   "metadata": {
    "deletable": false,
    "id": "e149fab4"
   },
   "outputs": [],
   "source": [
    "def categorize_purpose(row):\n",
    "    try:\n",
    "        if 'автом' in row:\n",
    "            return 'операции с автомобилем'\n",
    "        elif 'жил' in row or 'недвиж' in row:\n",
    "            return 'операции с недвижимостью'\n",
    "        elif 'свад' in row:\n",
    "            return 'проведение свадьбы'\n",
    "        elif 'образов' in row:\n",
    "            return 'получение образования'\n",
    "    except:\n",
    "        return 'нет категории'"
   ]
  },
  {
   "cell_type": "code",
   "execution_count": 21,
   "id": "c369a76f",
   "metadata": {
    "deletable": false,
    "id": "bf36e69b"
   },
   "outputs": [],
   "source": [
    "data['purpose_category'] = data['purpose'].apply(categorize_purpose)"
   ]
  },
  {
   "cell_type": "markdown",
   "id": "936eb1d7",
   "metadata": {
    "deletable": false,
    "editable": false,
    "id": "09b242bf"
   },
   "source": [
    "### Шаг 3. Исследуйте данные и ответьте на вопросы"
   ]
  },
  {
   "cell_type": "markdown",
   "id": "b2e859a6",
   "metadata": {},
   "source": [
    "Для сопоставления значений мы рассчитали процент должников по всем заемщикам:"
   ]
  },
  {
   "cell_type": "code",
   "execution_count": 22,
   "id": "aab745b9",
   "metadata": {
    "scrolled": true
   },
   "outputs": [
    {
     "name": "stdout",
     "output_type": "stream",
     "text": [
      "Кол-во человек в выборке: 21331\n",
      "Кол-во должников: 1732\n",
      "Процент должников из всей выборки составляет: 8.12%\n"
     ]
    }
   ],
   "source": [
    "total_debtors = data[data['debt'] == 1]['debt'].count()\n",
    "total = data['debt'].count()\n",
    "total_debtors_percent = (total_debtors/total)*100\n",
    "print(f'Кол-во человек в выборке: {total}\\nКол-во должников: {total_debtors}\\nПроцент должников из всей выборки составляет: {total_debtors_percent:.2f}%')"
   ]
  },
  {
   "cell_type": "markdown",
   "id": "fc2c7902",
   "metadata": {
    "deletable": false,
    "editable": false,
    "id": "c5d66278"
   },
   "source": [
    "#### 3.1 Есть ли зависимость между количеством детей и возвратом кредита в срок?"
   ]
  },
  {
   "cell_type": "code",
   "execution_count": 23,
   "id": "d4e17d21",
   "metadata": {
    "deletable": false,
    "id": "2cacfc4a"
   },
   "outputs": [
    {
     "data": {
      "text/html": [
       "<div>\n",
       "<style scoped>\n",
       "    .dataframe tbody tr th:only-of-type {\n",
       "        vertical-align: middle;\n",
       "    }\n",
       "\n",
       "    .dataframe tbody tr th {\n",
       "        vertical-align: top;\n",
       "    }\n",
       "\n",
       "    .dataframe thead tr th {\n",
       "        text-align: left;\n",
       "    }\n",
       "</style>\n",
       "<table border=\"1\" class=\"dataframe\">\n",
       "  <thead>\n",
       "    <tr>\n",
       "      <th></th>\n",
       "      <th>children</th>\n",
       "      <th colspan=\"3\" halign=\"left\">debt</th>\n",
       "      <th>%</th>\n",
       "    </tr>\n",
       "    <tr>\n",
       "      <th></th>\n",
       "      <th></th>\n",
       "      <th>count</th>\n",
       "      <th>sum</th>\n",
       "      <th>mean</th>\n",
       "      <th></th>\n",
       "    </tr>\n",
       "  </thead>\n",
       "  <tbody>\n",
       "    <tr>\n",
       "      <th>0</th>\n",
       "      <td>0</td>\n",
       "      <td>14091</td>\n",
       "      <td>1063</td>\n",
       "      <td>0.075438</td>\n",
       "      <td>7.543822</td>\n",
       "    </tr>\n",
       "    <tr>\n",
       "      <th>1</th>\n",
       "      <td>1</td>\n",
       "      <td>4808</td>\n",
       "      <td>444</td>\n",
       "      <td>0.092346</td>\n",
       "      <td>9.234609</td>\n",
       "    </tr>\n",
       "    <tr>\n",
       "      <th>2</th>\n",
       "      <td>2</td>\n",
       "      <td>2052</td>\n",
       "      <td>194</td>\n",
       "      <td>0.094542</td>\n",
       "      <td>9.454191</td>\n",
       "    </tr>\n",
       "    <tr>\n",
       "      <th>3</th>\n",
       "      <td>3</td>\n",
       "      <td>330</td>\n",
       "      <td>27</td>\n",
       "      <td>0.081818</td>\n",
       "      <td>8.181818</td>\n",
       "    </tr>\n",
       "    <tr>\n",
       "      <th>4</th>\n",
       "      <td>4</td>\n",
       "      <td>41</td>\n",
       "      <td>4</td>\n",
       "      <td>0.097561</td>\n",
       "      <td>9.756098</td>\n",
       "    </tr>\n",
       "    <tr>\n",
       "      <th>5</th>\n",
       "      <td>5</td>\n",
       "      <td>9</td>\n",
       "      <td>0</td>\n",
       "      <td>0.000000</td>\n",
       "      <td>0.000000</td>\n",
       "    </tr>\n",
       "  </tbody>\n",
       "</table>\n",
       "</div>"
      ],
      "text/plain": [
       "  children   debt                         %\n",
       "            count   sum      mean          \n",
       "0        0  14091  1063  0.075438  7.543822\n",
       "1        1   4808   444  0.092346  9.234609\n",
       "2        2   2052   194  0.094542  9.454191\n",
       "3        3    330    27  0.081818  8.181818\n",
       "4        4     41     4  0.097561  9.756098\n",
       "5        5      9     0  0.000000  0.000000"
      ]
     },
     "execution_count": 23,
     "metadata": {},
     "output_type": "execute_result"
    }
   ],
   "source": [
    "debt_children_percent = data.groupby('children').agg({'debt': ['count', 'sum', 'mean']})\n",
    "debt_children_percent['%'] = debt_children_percent['debt']['mean']*100\n",
    "debt_children_percent = debt_children_percent.reset_index()\n",
    "debt_children_percent"
   ]
  },
  {
   "cell_type": "code",
   "execution_count": 24,
   "id": "2d0de991",
   "metadata": {},
   "outputs": [
    {
     "data": {
      "image/png": "[encoded data removed]",
      "text/plain": [
       "<Figure size 432x288 with 1 Axes>"
      ]
     },
     "metadata": {},
     "output_type": "display_data"
    }
   ],
   "source": [
    "import seaborn as sns\n",
    "import matplotlib.pyplot as plt\n",
    "sns.set_context('notebook')\n",
    "sns.set_style(\"darkgrid\")\n",
    "sns.set_palette('PuRd')\n",
    "g = sns.barplot(x=debt_children_percent['children'], y=debt_children_percent['%'])\n",
    "g.set(xlabel=\"Количество детей\",\n",
    "ylabel=\"Процент должников\")\n",
    "g.axhline(8.12, color='red', linestyle='--')\n",
    "plt.show()"
   ]
  },
  {
   "cell_type": "markdown",
   "id": "a84ffbf5",
   "metadata": {
    "deletable": false,
    "id": "3a6b99ec"
   },
   "source": [
    "**Вывод:** \n",
    "\n",
    "Первый взгляд на график показывает, что зависимости нет, но в таблице группировки мы видим, что категории 3, 4, 5 детей встречаются в 1.8% наблюдений. Соответственно, если мы посмотрим на остальные категории, то становится заметно, что заемщики без детей гораздо реже становятся должниками (7.5% против 9.2% и 9.5%). \n",
    "Те, у кого есть дети, чаще, чем в среднем по выборке (8.12%) имеют задолженность. Те, у кого нет детей - реже."
   ]
  },
  {
   "cell_type": "markdown",
   "id": "f17e01b9",
   "metadata": {
    "deletable": false,
    "editable": false,
    "id": "97be82ca"
   },
   "source": [
    "#### 3.2 Есть ли зависимость между семейным положением и возвратом кредита в срок?"
   ]
  },
  {
   "cell_type": "code",
   "execution_count": 25,
   "id": "d7afebb1",
   "metadata": {
    "deletable": false,
    "id": "dc3f7ee8"
   },
   "outputs": [
    {
     "data": {
      "text/html": [
       "<div>\n",
       "<style scoped>\n",
       "    .dataframe tbody tr th:only-of-type {\n",
       "        vertical-align: middle;\n",
       "    }\n",
       "\n",
       "    .dataframe tbody tr th {\n",
       "        vertical-align: top;\n",
       "    }\n",
       "\n",
       "    .dataframe thead tr th {\n",
       "        text-align: left;\n",
       "    }\n",
       "</style>\n",
       "<table border=\"1\" class=\"dataframe\">\n",
       "  <thead>\n",
       "    <tr>\n",
       "      <th></th>\n",
       "      <th>family_status_id</th>\n",
       "      <th colspan=\"3\" halign=\"left\">debt</th>\n",
       "      <th>%</th>\n",
       "    </tr>\n",
       "    <tr>\n",
       "      <th></th>\n",
       "      <th></th>\n",
       "      <th>count</th>\n",
       "      <th>sum</th>\n",
       "      <th>mean</th>\n",
       "      <th></th>\n",
       "    </tr>\n",
       "  </thead>\n",
       "  <tbody>\n",
       "    <tr>\n",
       "      <th>0</th>\n",
       "      <td>0</td>\n",
       "      <td>12261</td>\n",
       "      <td>927</td>\n",
       "      <td>0.075606</td>\n",
       "      <td>7.560558</td>\n",
       "    </tr>\n",
       "    <tr>\n",
       "      <th>1</th>\n",
       "      <td>1</td>\n",
       "      <td>4134</td>\n",
       "      <td>385</td>\n",
       "      <td>0.093130</td>\n",
       "      <td>9.313014</td>\n",
       "    </tr>\n",
       "    <tr>\n",
       "      <th>2</th>\n",
       "      <td>2</td>\n",
       "      <td>951</td>\n",
       "      <td>63</td>\n",
       "      <td>0.066246</td>\n",
       "      <td>6.624606</td>\n",
       "    </tr>\n",
       "    <tr>\n",
       "      <th>3</th>\n",
       "      <td>3</td>\n",
       "      <td>1189</td>\n",
       "      <td>84</td>\n",
       "      <td>0.070648</td>\n",
       "      <td>7.064760</td>\n",
       "    </tr>\n",
       "    <tr>\n",
       "      <th>4</th>\n",
       "      <td>4</td>\n",
       "      <td>2796</td>\n",
       "      <td>273</td>\n",
       "      <td>0.097639</td>\n",
       "      <td>9.763948</td>\n",
       "    </tr>\n",
       "  </tbody>\n",
       "</table>\n",
       "</div>"
      ],
      "text/plain": [
       "  family_status_id   debt                        %\n",
       "                    count  sum      mean          \n",
       "0                0  12261  927  0.075606  7.560558\n",
       "1                1   4134  385  0.093130  9.313014\n",
       "2                2    951   63  0.066246  6.624606\n",
       "3                3   1189   84  0.070648  7.064760\n",
       "4                4   2796  273  0.097639  9.763948"
      ]
     },
     "execution_count": 25,
     "metadata": {},
     "output_type": "execute_result"
    }
   ],
   "source": [
    "debt_fam_type_percent = data.groupby('family_status_id').agg({'debt': ['count', 'sum', 'mean']})\n",
    "debt_fam_type_percent['%'] = debt_fam_type_percent['debt']['mean']*100\n",
    "debt_fam_type_percent = debt_fam_type_percent.reset_index()\n",
    "debt_fam_type_percent"
   ]
  },
  {
   "cell_type": "code",
   "execution_count": 26,
   "id": "a8c92783",
   "metadata": {},
   "outputs": [
    {
     "data": {
      "image/png": "[encoded data removed]",
      "text/plain": [
       "<Figure size 432x288 with 1 Axes>"
      ]
     },
     "metadata": {},
     "output_type": "display_data"
    }
   ],
   "source": [
    "sns.set_palette('Set3')\n",
    "g = sns.barplot(x=debt_fam_type_percent['family_status_id'], y=debt_fam_type_percent['%'])\n",
    "g.set(xlabel=\"Семейное положение\\n\\n0 - в браке, 1 - в гражданском браке, 2 - вдовец/вдова, 3 - в разводе, 4 - не в браке\",\n",
    "ylabel=\"Процент должников\")\n",
    "g.axhline(8.12, color='red', linestyle='--')\n",
    "plt.show()"
   ]
  },
  {
   "cell_type": "markdown",
   "id": "54458abb",
   "metadata": {
    "deletable": false,
    "id": "1cef7837"
   },
   "source": [
    "**Вывод:** \n",
    "\n",
    "Те, кто не в браке и те, кто в гражданском браке чаще становятся должниками, чем все остальные категории - 9.3% и 9.76%. Оба эти значения выше среднего по всей выборке в целом. Все остальные категории ниже среднего по всей выборке. Среди них незначительно выше процент должников у тех, кто в браке."
   ]
  },
  {
   "cell_type": "markdown",
   "id": "1c2562dc",
   "metadata": {
    "deletable": false,
    "editable": false,
    "id": "1e8b2fca"
   },
   "source": [
    "#### 3.3 Есть ли зависимость между уровнем дохода и возвратом кредита в срок?"
   ]
  },
  {
   "cell_type": "code",
   "execution_count": 27,
   "id": "0769f212",
   "metadata": {
    "deletable": false,
    "id": "cd7e3720"
   },
   "outputs": [
    {
     "data": {
      "text/html": [
       "<div>\n",
       "<style scoped>\n",
       "    .dataframe tbody tr th:only-of-type {\n",
       "        vertical-align: middle;\n",
       "    }\n",
       "\n",
       "    .dataframe tbody tr th {\n",
       "        vertical-align: top;\n",
       "    }\n",
       "\n",
       "    .dataframe thead tr th {\n",
       "        text-align: left;\n",
       "    }\n",
       "</style>\n",
       "<table border=\"1\" class=\"dataframe\">\n",
       "  <thead>\n",
       "    <tr>\n",
       "      <th></th>\n",
       "      <th>total_income_category</th>\n",
       "      <th colspan=\"3\" halign=\"left\">debt</th>\n",
       "      <th>%</th>\n",
       "    </tr>\n",
       "    <tr>\n",
       "      <th></th>\n",
       "      <th></th>\n",
       "      <th>count</th>\n",
       "      <th>sum</th>\n",
       "      <th>mean</th>\n",
       "      <th></th>\n",
       "    </tr>\n",
       "  </thead>\n",
       "  <tbody>\n",
       "    <tr>\n",
       "      <th>0</th>\n",
       "      <td>A</td>\n",
       "      <td>25</td>\n",
       "      <td>2</td>\n",
       "      <td>0.080000</td>\n",
       "      <td>8.000000</td>\n",
       "    </tr>\n",
       "    <tr>\n",
       "      <th>1</th>\n",
       "      <td>B</td>\n",
       "      <td>5014</td>\n",
       "      <td>354</td>\n",
       "      <td>0.070602</td>\n",
       "      <td>7.060231</td>\n",
       "    </tr>\n",
       "    <tr>\n",
       "      <th>2</th>\n",
       "      <td>C</td>\n",
       "      <td>15921</td>\n",
       "      <td>1353</td>\n",
       "      <td>0.084982</td>\n",
       "      <td>8.498210</td>\n",
       "    </tr>\n",
       "    <tr>\n",
       "      <th>3</th>\n",
       "      <td>D</td>\n",
       "      <td>349</td>\n",
       "      <td>21</td>\n",
       "      <td>0.060172</td>\n",
       "      <td>6.017192</td>\n",
       "    </tr>\n",
       "    <tr>\n",
       "      <th>4</th>\n",
       "      <td>E</td>\n",
       "      <td>22</td>\n",
       "      <td>2</td>\n",
       "      <td>0.090909</td>\n",
       "      <td>9.090909</td>\n",
       "    </tr>\n",
       "  </tbody>\n",
       "</table>\n",
       "</div>"
      ],
      "text/plain": [
       "  total_income_category   debt                         %\n",
       "                         count   sum      mean          \n",
       "0                     A     25     2  0.080000  8.000000\n",
       "1                     B   5014   354  0.070602  7.060231\n",
       "2                     C  15921  1353  0.084982  8.498210\n",
       "3                     D    349    21  0.060172  6.017192\n",
       "4                     E     22     2  0.090909  9.090909"
      ]
     },
     "execution_count": 27,
     "metadata": {},
     "output_type": "execute_result"
    }
   ],
   "source": [
    "debt_inc_cat_percent = data.groupby('total_income_category').agg({'debt': ['count', 'sum', 'mean']})\n",
    "debt_inc_cat_percent['%'] = debt_inc_cat_percent['debt']['mean']*100\n",
    "debt_inc_cat_percent = debt_inc_cat_percent.reset_index()\n",
    "debt_inc_cat_percent"
   ]
  },
  {
   "cell_type": "code",
   "execution_count": 28,
   "id": "ce807723",
   "metadata": {},
   "outputs": [
    {
     "data": {
      "image/png": "[encoded data removed]",
      "text/plain": [
       "<Figure size 432x288 with 1 Axes>"
      ]
     },
     "metadata": {},
     "output_type": "display_data"
    }
   ],
   "source": [
    "sns.set_palette('ocean_r')\n",
    "g = sns.barplot(x=debt_inc_cat_percent['total_income_category'], y=debt_inc_cat_percent['%'])\n",
    "g.set(xlabel=\"Категория доходов\\n\\nA - от 1 млн., B - от 200 тыс. до 1 млн., C - от 50 до 200 тыс., D - от 30 до 50 тыс., E - до 30 тыс.\",\n",
    "ylabel=\"Процент должников\")\n",
    "g.axhline(8.12, color='red', linestyle='--')\n",
    "plt.show()"
   ]
  },
  {
   "cell_type": "markdown",
   "id": "46b93fa8",
   "metadata": {},
   "source": [
    "**При первоначальной категоризации заемщиков по уровню дохода не заметна прямая связь между этим показателем и количеством должников. Группа с наименьшим доходом - Е - чаще всего имеют задолженность. В то же время, группа с незначительно большим доходом - D - реже всего имеет задолженность. При этом, эти две категории с наименьшим доходом содержат менее 2% наблюдений, тогда как категория С - от 50 до 200 тыс. - содержит порядка 75% всех наблюдений.**\n",
    "\n",
    "**Попробуем разбить эту категорию на меньшие интервалы - 20 тыс.**"
   ]
  },
  {
   "cell_type": "markdown",
   "id": "7863eaf1",
   "metadata": {},
   "source": [
    "Создаем новую функцию для категоризации доходов с измененными диапазонами:\n",
    "\n",
    "<blockquote>\n",
    "<i>A - от 1 млн.\n",
    "B - от 200 тыс. до 1 млн.\n",
    "C - от 50 до 200 тыс.\n",
    "C1 - 50-70 тыс.\n",
    "С2 - от 70 до 90 тыс.\n",
    "С3 - от 90 до 110 тыс.\n",
    "С4 - от 110 до 130 тыс.\n",
    "С5 - от 130 до 150 тыс.\n",
    "С6 - от 150 до 170 тыс.\n",
    "С7 - от 170 до 200 тыс.\n",
    "D - от 30 до 50 тыс.\n",
    "E - до 30 тыс.</i>\n"
   ]
  },
  {
   "cell_type": "code",
   "execution_count": 29,
   "id": "ca29cbb6",
   "metadata": {},
   "outputs": [],
   "source": [
    "def categorize_income_new(income):\n",
    "    try:\n",
    "        if 0 <= income <= 30000:\n",
    "            return 'E'\n",
    "        elif 30001 <= income <= 50000:\n",
    "            return 'D'\n",
    "        elif 50001 <= income <= 70000:\n",
    "            return 'C7'\n",
    "        elif 70001 <= income <= 90000:\n",
    "            return 'C6'\n",
    "        elif 90001 <= income <= 110000:\n",
    "            return 'C5'\n",
    "        elif 110001 <= income <= 130000:\n",
    "            return 'C4'\n",
    "        elif 130001 <= income <= 150000:\n",
    "            return 'C3'\n",
    "        elif 150001 <= income <= 170000:\n",
    "            return 'C2'\n",
    "        elif 170001 <= income <= 200000:\n",
    "            return 'C1'\n",
    "        elif 200001 <= income <= 1000000:\n",
    "            return 'B'\n",
    "        elif income >= 1000001:\n",
    "            return 'A'\n",
    "    except:\n",
    "        pass"
   ]
  },
  {
   "cell_type": "code",
   "execution_count": 30,
   "id": "effd6399",
   "metadata": {},
   "outputs": [],
   "source": [
    "data['total_income_category_new'] = data['total_income'].apply(categorize_income_new)"
   ]
  },
  {
   "cell_type": "code",
   "execution_count": 31,
   "id": "90f421a1",
   "metadata": {},
   "outputs": [
    {
     "data": {
      "text/html": [
       "<div>\n",
       "<style scoped>\n",
       "    .dataframe tbody tr th:only-of-type {\n",
       "        vertical-align: middle;\n",
       "    }\n",
       "\n",
       "    .dataframe tbody tr th {\n",
       "        vertical-align: top;\n",
       "    }\n",
       "\n",
       "    .dataframe thead tr th {\n",
       "        text-align: left;\n",
       "    }\n",
       "</style>\n",
       "<table border=\"1\" class=\"dataframe\">\n",
       "  <thead>\n",
       "    <tr>\n",
       "      <th></th>\n",
       "      <th>total_income_category_new</th>\n",
       "      <th colspan=\"3\" halign=\"left\">debt</th>\n",
       "      <th>%</th>\n",
       "    </tr>\n",
       "    <tr>\n",
       "      <th></th>\n",
       "      <th></th>\n",
       "      <th>count</th>\n",
       "      <th>sum</th>\n",
       "      <th>mean</th>\n",
       "      <th></th>\n",
       "    </tr>\n",
       "  </thead>\n",
       "  <tbody>\n",
       "    <tr>\n",
       "      <th>0</th>\n",
       "      <td>A</td>\n",
       "      <td>25</td>\n",
       "      <td>2</td>\n",
       "      <td>0.080000</td>\n",
       "      <td>8.000000</td>\n",
       "    </tr>\n",
       "    <tr>\n",
       "      <th>1</th>\n",
       "      <td>B</td>\n",
       "      <td>5014</td>\n",
       "      <td>354</td>\n",
       "      <td>0.070602</td>\n",
       "      <td>7.060231</td>\n",
       "    </tr>\n",
       "    <tr>\n",
       "      <th>2</th>\n",
       "      <td>C1</td>\n",
       "      <td>2638</td>\n",
       "      <td>218</td>\n",
       "      <td>0.082638</td>\n",
       "      <td>8.263836</td>\n",
       "    </tr>\n",
       "    <tr>\n",
       "      <th>3</th>\n",
       "      <td>C2</td>\n",
       "      <td>2100</td>\n",
       "      <td>185</td>\n",
       "      <td>0.088095</td>\n",
       "      <td>8.809524</td>\n",
       "    </tr>\n",
       "    <tr>\n",
       "      <th>4</th>\n",
       "      <td>C3</td>\n",
       "      <td>3269</td>\n",
       "      <td>293</td>\n",
       "      <td>0.089630</td>\n",
       "      <td>8.962986</td>\n",
       "    </tr>\n",
       "    <tr>\n",
       "      <th>5</th>\n",
       "      <td>C4</td>\n",
       "      <td>2668</td>\n",
       "      <td>225</td>\n",
       "      <td>0.084333</td>\n",
       "      <td>8.433283</td>\n",
       "    </tr>\n",
       "    <tr>\n",
       "      <th>6</th>\n",
       "      <td>C5</td>\n",
       "      <td>2284</td>\n",
       "      <td>193</td>\n",
       "      <td>0.084501</td>\n",
       "      <td>8.450088</td>\n",
       "    </tr>\n",
       "    <tr>\n",
       "      <th>7</th>\n",
       "      <td>C6</td>\n",
       "      <td>1869</td>\n",
       "      <td>161</td>\n",
       "      <td>0.086142</td>\n",
       "      <td>8.614232</td>\n",
       "    </tr>\n",
       "    <tr>\n",
       "      <th>8</th>\n",
       "      <td>C7</td>\n",
       "      <td>1093</td>\n",
       "      <td>78</td>\n",
       "      <td>0.071363</td>\n",
       "      <td>7.136322</td>\n",
       "    </tr>\n",
       "    <tr>\n",
       "      <th>9</th>\n",
       "      <td>D</td>\n",
       "      <td>349</td>\n",
       "      <td>21</td>\n",
       "      <td>0.060172</td>\n",
       "      <td>6.017192</td>\n",
       "    </tr>\n",
       "    <tr>\n",
       "      <th>10</th>\n",
       "      <td>E</td>\n",
       "      <td>22</td>\n",
       "      <td>2</td>\n",
       "      <td>0.090909</td>\n",
       "      <td>9.090909</td>\n",
       "    </tr>\n",
       "  </tbody>\n",
       "</table>\n",
       "</div>"
      ],
      "text/plain": [
       "   total_income_category_new  debt                        %\n",
       "                             count  sum      mean          \n",
       "0                          A    25    2  0.080000  8.000000\n",
       "1                          B  5014  354  0.070602  7.060231\n",
       "2                         C1  2638  218  0.082638  8.263836\n",
       "3                         C2  2100  185  0.088095  8.809524\n",
       "4                         C3  3269  293  0.089630  8.962986\n",
       "5                         C4  2668  225  0.084333  8.433283\n",
       "6                         C5  2284  193  0.084501  8.450088\n",
       "7                         C6  1869  161  0.086142  8.614232\n",
       "8                         C7  1093   78  0.071363  7.136322\n",
       "9                          D   349   21  0.060172  6.017192\n",
       "10                         E    22    2  0.090909  9.090909"
      ]
     },
     "execution_count": 31,
     "metadata": {},
     "output_type": "execute_result"
    }
   ],
   "source": [
    "debt_inc_cat_percent_new = data.groupby('total_income_category_new').agg({'debt': ['count', 'sum', 'mean']})\n",
    "debt_inc_cat_percent_new['%'] = debt_inc_cat_percent_new['debt']['mean']*100\n",
    "debt_inc_cat_percent_new = debt_inc_cat_percent_new.reset_index()\n",
    "debt_inc_cat_percent_new"
   ]
  },
  {
   "cell_type": "code",
   "execution_count": 32,
   "id": "f5ccaf53",
   "metadata": {},
   "outputs": [
    {
     "data": {
      "image/png": "[encoded data removed]",
      "text/plain": [
       "<Figure size 432x288 with 1 Axes>"
      ]
     },
     "metadata": {},
     "output_type": "display_data"
    }
   ],
   "source": [
    "g = sns.barplot(x=debt_inc_cat_percent_new['total_income_category_new'], y=debt_inc_cat_percent_new['%'], palette='ocean')\n",
    "g.set(xlabel=\"Категория доходов\\n\\nA - от 1 млн., B - от 200 тыс. до 1 млн.,\\n C - от 50 до 200 тыс., C1 - 50-70, С2 - от 70 до 90, С3 - от 90 до 110, С4 - от 110 до 130, С5 - от 130 до 150, С6 - от 150 до 170, С7 - от 170 до 200\\n D - от 30 до 50 тыс., E - до 30 тыс.\",\n",
    "ylabel=\"Процент должников\")\n",
    "g.axhline(8.12, color='red', linestyle='--')\n",
    "plt.show()"
   ]
  },
  {
   "cell_type": "markdown",
   "id": "1044904d",
   "metadata": {
    "deletable": false,
    "id": "e8593def"
   },
   "source": [
    "**Вывод:** \n",
    "\n",
    "Опять прямой связи между тем, сколько человек получает, и будет ли он должником, не видно. Выбивается категория С7, она ниже среднего по общей выборке. Все остальные подкатегории С выше среднего.  \n",
    "\n",
    "Обеспеченные люди представлены в двух категориях - A и В. Процент должников в категории А близок к среднему по всей выборке, в то же время процент должников в категории В значительно ниже среднего - 7.06%. Если мы посмотрим на таблицу, то увидим, что в категории А всего 25 наблюдений, а в категории В - 5000 наблюдений. Таким образом, мы все-таки можем сделать вывод о том, что богатые люди (с доходом от 200 тысяч) значительно реже становятся должниками."
   ]
  },
  {
   "cell_type": "markdown",
   "id": "82526c1a",
   "metadata": {
    "deletable": false,
    "editable": false,
    "id": "99ecbd1f"
   },
   "source": [
    "#### 3.4 Как разные цели кредита влияют на его возврат в срок?"
   ]
  },
  {
   "cell_type": "code",
   "execution_count": 33,
   "id": "b5b7702c",
   "metadata": {
    "deletable": false,
    "id": "2b687290"
   },
   "outputs": [
    {
     "data": {
      "text/html": [
       "<div>\n",
       "<style scoped>\n",
       "    .dataframe tbody tr th:only-of-type {\n",
       "        vertical-align: middle;\n",
       "    }\n",
       "\n",
       "    .dataframe tbody tr th {\n",
       "        vertical-align: top;\n",
       "    }\n",
       "\n",
       "    .dataframe thead tr th {\n",
       "        text-align: left;\n",
       "    }\n",
       "</style>\n",
       "<table border=\"1\" class=\"dataframe\">\n",
       "  <thead>\n",
       "    <tr>\n",
       "      <th></th>\n",
       "      <th>purpose_category</th>\n",
       "      <th colspan=\"3\" halign=\"left\">debt</th>\n",
       "      <th>%</th>\n",
       "    </tr>\n",
       "    <tr>\n",
       "      <th></th>\n",
       "      <th></th>\n",
       "      <th>count</th>\n",
       "      <th>sum</th>\n",
       "      <th>mean</th>\n",
       "      <th></th>\n",
       "    </tr>\n",
       "  </thead>\n",
       "  <tbody>\n",
       "    <tr>\n",
       "      <th>0</th>\n",
       "      <td>операции с автомобилем</td>\n",
       "      <td>4279</td>\n",
       "      <td>400</td>\n",
       "      <td>0.093480</td>\n",
       "      <td>9.347978</td>\n",
       "    </tr>\n",
       "    <tr>\n",
       "      <th>1</th>\n",
       "      <td>операции с недвижимостью</td>\n",
       "      <td>10751</td>\n",
       "      <td>780</td>\n",
       "      <td>0.072551</td>\n",
       "      <td>7.255139</td>\n",
       "    </tr>\n",
       "    <tr>\n",
       "      <th>2</th>\n",
       "      <td>получение образования</td>\n",
       "      <td>3988</td>\n",
       "      <td>369</td>\n",
       "      <td>0.092528</td>\n",
       "      <td>9.252758</td>\n",
       "    </tr>\n",
       "    <tr>\n",
       "      <th>3</th>\n",
       "      <td>проведение свадьбы</td>\n",
       "      <td>2313</td>\n",
       "      <td>183</td>\n",
       "      <td>0.079118</td>\n",
       "      <td>7.911803</td>\n",
       "    </tr>\n",
       "  </tbody>\n",
       "</table>\n",
       "</div>"
      ],
      "text/plain": [
       "           purpose_category   debt                        %\n",
       "                             count  sum      mean          \n",
       "0    операции с автомобилем   4279  400  0.093480  9.347978\n",
       "1  операции с недвижимостью  10751  780  0.072551  7.255139\n",
       "2     получение образования   3988  369  0.092528  9.252758\n",
       "3        проведение свадьбы   2313  183  0.079118  7.911803"
      ]
     },
     "execution_count": 33,
     "metadata": {},
     "output_type": "execute_result"
    }
   ],
   "source": [
    "debt_cat_percent = data.groupby('purpose_category').agg({'debt': ['count', 'sum', 'mean']})\n",
    "debt_cat_percent['%'] = debt_cat_percent['debt']['mean']*100\n",
    "debt_cat_percent = debt_cat_percent.reset_index()\n",
    "debt_cat_percent"
   ]
  },
  {
   "cell_type": "code",
   "execution_count": 34,
   "id": "9f593c57",
   "metadata": {
    "scrolled": false
   },
   "outputs": [
    {
     "data": {
      "image/png": "[encoded data removed]",
      "text/plain": [
       "<Figure size 432x288 with 1 Axes>"
      ]
     },
     "metadata": {},
     "output_type": "display_data"
    }
   ],
   "source": [
    "sns.set_palette('Set1')\n",
    "g = sns.barplot(x=debt_cat_percent['purpose_category'], y=debt_cat_percent['%'])\n",
    "g.set(xlabel=\"Цель кредита\",\n",
    "ylabel=\"Процент должников\")\n",
    "plt.xticks(rotation=45)\n",
    "g.axhline(8.12, color='red', linestyle='--')\n",
    "plt.show()"
   ]
  },
  {
   "cell_type": "markdown",
   "id": "9602a6a1",
   "metadata": {
    "deletable": false,
    "id": "b4bb2ce6"
   },
   "source": [
    "**Вывод:** \n",
    "\n",
    "Мы видим, что операции с недвижимостью это наименее рискованная для банка категория. Соответсвенно, процент должников в ней составляет 7.26%, что почти на 1% ниже среднего по всей выборке. Операции с автомобилем и получение образования значительно выше среднего по выборке, по 9.3% процента. "
   ]
  },
  {
   "cell_type": "markdown",
   "id": "65aef3af",
   "metadata": {
    "deletable": false,
    "editable": false,
    "id": "09c3ac4c"
   },
   "source": [
    "#### 3.5 Приведите возможные причины появления пропусков в исходных данных."
   ]
  },
  {
   "cell_type": "markdown",
   "id": "e5a66f86",
   "metadata": {
    "deletable": false,
    "id": "9da2ceda"
   },
   "source": [
    "*Ответ:* \n",
    "\n",
    "Пропуски данных были одновременно в двух столбцах -  доход и стаж. Соответственно, первый способ того, как объяснить пропуски - предположить, что это безработные: у них нет дохода и они никогда не работали. Но в данных есть категории по типу занятости, и в них всего два наблюдения по безработным. То есть, если мы доверяем столбцу о типе занятости, значит, \"безработными\" эти пропуски назвать нельзя.\n",
    "\n",
    "**Есть гипотеза, что не под все цели кредитов нужно получение данных о зарплате и трудовом стаже (что об этом не спрашивают в банке). Предположим, что для цели кредита, связанной с образованием, указание этих данных не обязательно.**\n",
    "\n",
    "Для проверки гипотизы восстановим пропуски, которые на первом этапе заполнили медианным значением дохода по каждой категории (данный вариант выбран, чтобы не изменять предыдущую часть проекта) "
   ]
  },
  {
   "cell_type": "code",
   "execution_count": 35,
   "id": "095d92a7",
   "metadata": {},
   "outputs": [
    {
     "name": "stdout",
     "output_type": "stream",
     "text": [
      "Для категории сотрудник медиана составляет 142594.0\n",
      "\n",
      "Для категории пенсионер медиана составляет 118514.0\n",
      "\n",
      "Для категории компаньон медиана составляет 172357.0\n",
      "\n",
      "Для категории госслужащий медиана составляет 150447.0\n",
      "\n",
      "Для категории безработный медиана составляет 131339.0\n",
      "\n",
      "Для категории предприниматель медиана составляет 499163.0\n",
      "\n",
      "Для категории студент медиана составляет 98201.0\n",
      "\n",
      "Для категории в декрете медиана составляет 53829.0\n",
      "\n"
     ]
    }
   ],
   "source": [
    "#восстанавливаем медианы для категорий. это возможно, так как они были заполнены именно медианным значением\n",
    "\n",
    "medians = []\n",
    "unique_cats = list(data['income_type'].unique())\n",
    "for t in unique_cats:\n",
    "    medians.append(data.loc[data['income_type'] == t]['total_income'].median())\n",
    "unique_cats = list(data['income_type'].unique())\n",
    "for i in range(len(unique_cats)):\n",
    "    print(f'Для категории {unique_cats[i]} медиана составляет {medians[i]}\\n')"
   ]
  },
  {
   "cell_type": "code",
   "execution_count": 36,
   "id": "59947e1b",
   "metadata": {
    "scrolled": true
   },
   "outputs": [
    {
     "name": "stdout",
     "output_type": "stream",
     "text": [
      "Пропусков в категории сотрудник: 1066\n",
      "\n",
      "Пропусков в категории пенсионер: 384\n",
      "\n",
      "Пропусков в категории компаньон: 498\n",
      "\n",
      "Пропусков в категории госслужащий: 144\n",
      "\n",
      "Пропусков в категории безработный: 0\n",
      "\n",
      "Пропусков в категории предприниматель: 2\n",
      "\n",
      "Пропусков в категории студент: 1\n",
      "\n",
      "Пропусков в категории в декрете: 1\n",
      "\n"
     ]
    }
   ],
   "source": [
    "#считаем количество пропусков в каждой категории занятости.\n",
    "\"\"\"\n",
    "два пропуска в категории предприниматель, где всего два значения в датасете, объясняются тем, что был один пропуск, который\n",
    "заполнили медианой, поэтому значения одинаковые и при нашем методе восстановления показались, как пропуски.\n",
    "\"\"\"\n",
    "for i in range(len(medians)):\n",
    "    missed_val = data[data['total_income'] == medians[i]]['total_income'].count()\n",
    "    print(f'Пропусков в категории {unique_cats[i]}: {missed_val}\\n')"
   ]
  },
  {
   "cell_type": "code",
   "execution_count": 37,
   "id": "daf41439",
   "metadata": {},
   "outputs": [],
   "source": [
    "#функция, которая проверяет, есть ли значение дохода в списке медианных значений (которыми заполняли пропуски) и пишет в столбце\n",
    "\n",
    "def restore_missed_values(row):\n",
    "    if row['total_income'] in medians:\n",
    "        return 'm'\n",
    "    else:\n",
    "        return ''\n",
    "data['missed'] = data.apply(restore_missed_values, axis=1)\n",
    "data_missed = data[data['missed'] == 'm']  "
   ]
  },
  {
   "cell_type": "code",
   "execution_count": 38,
   "id": "5e5b1c5f",
   "metadata": {},
   "outputs": [
    {
     "data": {
      "image/png": "[encoded data removed]",
      "text/plain": [
       "<Figure size 432x288 with 1 Axes>"
      ]
     },
     "metadata": {},
     "output_type": "display_data"
    }
   ],
   "source": [
    "#график количества пропущенных значений \n",
    "\n",
    "g = sns.countplot(x='purpose_category', data=data_missed)\n",
    "g.set(xlabel=\"Цель кредита\",\n",
    "ylabel=\"Количество пропусков\")\n",
    "plt.xticks(rotation=45)\n",
    "plt.show()"
   ]
  },
  {
   "cell_type": "markdown",
   "id": "907634ad",
   "metadata": {},
   "source": [
    "**По графику видно, что гипотеза о том, что пропуски в значениях связаны с определенной целью кредита, а именно, с получением образования, не подтвердилась.**\n",
    "\n",
    "Если посмотреть на остальные столбцы, кажется, что содержательно они не могут объяснить пропуски.\n",
    "\n",
    "Таким образом, скорее всего, имела место техническая ошибка при выгрузке данных либо ошибка, связанная с человеческим фактором."
   ]
  },
  {
   "cell_type": "markdown",
   "id": "6dff7175",
   "metadata": {
    "deletable": false,
    "editable": false,
    "id": "7b0487d6"
   },
   "source": [
    "#### 3.6 Объясните, почему заполнить пропуски медианным значением — лучшее решение для количественных переменных."
   ]
  },
  {
   "cell_type": "markdown",
   "id": "d9ccb87d",
   "metadata": {
    "deletable": false,
    "id": "7ecf2b8e"
   },
   "source": [
    "*Ответ:* \n",
    "\n",
    "Для количественных переменных существует много способов заполнения пропущенных значений, какой из них правильнее выбрать зависит от ситуации. \n",
    "\n",
    "В данном проекте были пропуски в данных в столбцах про доход и про трудовой стаж. Как описано выше, пропуски (скорее всего) связаны именно с технической ошибкой - то есть, например, пропущенные значения нельзя просто заполнить нулем. \n",
    "\n",
    "Заполнение средним значением используется в случаях, где разброс данных невелик. В нашем случае это не является правдой: у нас есть зарплаты и 30 тысяч, и 500. Для таких случаев лучше использовать медианное значение, так как на него разброс данных не влияет так сильно, как на среднее. \n",
    "\n",
    "\n",
    "\n",
    " \n"
   ]
  },
  {
   "cell_type": "markdown",
   "id": "c5a0b678",
   "metadata": {
    "deletable": false,
    "editable": false,
    "id": "6db5255a"
   },
   "source": [
    "### Шаг 4: общий вывод."
   ]
  },
  {
   "cell_type": "markdown",
   "id": "74adb2b7",
   "metadata": {
    "deletable": false,
    "id": "bad65432"
   },
   "source": [
    "Задачей данного исследования было выявление зависимости между семейным положением, целью оформления кредита, уровнем дохода и способностью человека погасить кредит в срок, не превращаясь в должника. \n",
    "\n",
    "Банк предоставил набор данных с относительно небольшим числом пропущенных значений, которые было возможно эффективно восполнить, так как они, скорее всего, появились из-за технической ошибки.\n",
    "\n",
    "Построение таблиц с группировками и графиков показало, что разброс значений максимального и минимального процента должников среди всех заемщиков, вычисленный по различным категориям, относительно небольшой, максимум около 3% в зависимости от категории. Также видно, что значения все сосредоточены около значения процента должников по всей выборке - 8.12%.\n",
    "\n",
    "Лучше всего были видны зависимости при рассмотрении семейного положения и уровня дохода. \n",
    "\n",
    "\n",
    "Так как по заданию езультаты исследования будут учтены при построении модели кредитного скоринга, возможно, следует изучить данные подробнее, использовать при этом более узкие категории (как когда мы разбили зарплату на более мелкие категории, чем первоначально) - учитывать пол заемщиков, их образование, трудовой стаж и возраст. Возможно, при исследовании этих факторов появятся результаты с гораздо более очевидной зависимостью, нежели чем при рассмотрении семейного положения, целью оформления кредита и уровнем дохода."
   ]
  }
 ],
 "metadata": {
  "ExecuteTimeLog": [
   {
    "duration": 10,
    "start_time": "2022-12-27T21:30:52.245Z"
   },
   {
    "duration": 524,
    "start_time": "2022-12-27T21:30:57.694Z"
   },
   {
    "duration": 23,
    "start_time": "2022-12-27T21:31:01.142Z"
   },
   {
    "duration": 68,
    "start_time": "2022-12-27T21:31:16.394Z"
   },
   {
    "duration": 16,
    "start_time": "2022-12-27T21:31:16.464Z"
   },
   {
    "duration": 20,
    "start_time": "2022-12-27T21:31:16.482Z"
   },
   {
    "duration": 23,
    "start_time": "2022-12-27T21:31:16.504Z"
   },
   {
    "duration": 34,
    "start_time": "2022-12-27T21:31:16.529Z"
   },
   {
    "duration": 4,
    "start_time": "2022-12-27T21:31:16.565Z"
   },
   {
    "duration": 15,
    "start_time": "2022-12-27T21:31:16.570Z"
   },
   {
    "duration": 5,
    "start_time": "2022-12-27T21:31:16.587Z"
   },
   {
    "duration": 14,
    "start_time": "2022-12-27T21:31:16.594Z"
   },
   {
    "duration": 6,
    "start_time": "2022-12-27T21:31:16.627Z"
   },
   {
    "duration": 37,
    "start_time": "2022-12-27T21:31:16.634Z"
   },
   {
    "duration": 9,
    "start_time": "2022-12-27T21:31:16.673Z"
   },
   {
    "duration": 6,
    "start_time": "2022-12-27T21:31:16.684Z"
   },
   {
    "duration": 20,
    "start_time": "2022-12-27T21:31:16.691Z"
   },
   {
    "duration": 20,
    "start_time": "2022-12-27T21:31:16.727Z"
   },
   {
    "duration": 19,
    "start_time": "2022-12-27T21:31:16.749Z"
   },
   {
    "duration": 3,
    "start_time": "2022-12-27T21:31:16.770Z"
   },
   {
    "duration": 68,
    "start_time": "2022-12-27T21:31:16.774Z"
   },
   {
    "duration": 26,
    "start_time": "2022-12-27T21:31:16.844Z"
   },
   {
    "duration": 3,
    "start_time": "2022-12-27T21:31:34.449Z"
   },
   {
    "duration": 75,
    "start_time": "2022-12-27T21:33:22.909Z"
   },
   {
    "duration": 307,
    "start_time": "2022-12-27T21:35:16.179Z"
   },
   {
    "duration": 21,
    "start_time": "2022-12-27T21:36:21.441Z"
   },
   {
    "duration": 296,
    "start_time": "2022-12-27T21:36:29.457Z"
   },
   {
    "duration": 909,
    "start_time": "2022-12-27T21:36:43.022Z"
   },
   {
    "duration": 294,
    "start_time": "2022-12-27T21:36:49.648Z"
   },
   {
    "duration": 287,
    "start_time": "2022-12-27T21:39:43.885Z"
   },
   {
    "duration": 275,
    "start_time": "2022-12-27T21:40:08.515Z"
   },
   {
    "duration": 315,
    "start_time": "2022-12-27T21:42:25.189Z"
   },
   {
    "duration": 362,
    "start_time": "2022-12-27T21:49:51.329Z"
   },
   {
    "duration": 253,
    "start_time": "2022-12-27T22:08:25.105Z"
   },
   {
    "duration": 25,
    "start_time": "2022-12-27T22:10:15.853Z"
   },
   {
    "duration": 204,
    "start_time": "2022-12-27T22:11:32.156Z"
   },
   {
    "duration": 190,
    "start_time": "2022-12-27T22:11:45.149Z"
   },
   {
    "duration": 1117,
    "start_time": "2022-12-27T22:17:54.587Z"
   },
   {
    "duration": 182,
    "start_time": "2022-12-27T22:29:17.450Z"
   },
   {
    "duration": 340,
    "start_time": "2022-12-27T22:31:55.024Z"
   },
   {
    "duration": 325,
    "start_time": "2022-12-27T22:34:01.665Z"
   },
   {
    "duration": 323,
    "start_time": "2022-12-27T22:38:11.226Z"
   },
   {
    "duration": 309,
    "start_time": "2022-12-27T22:38:34.522Z"
   },
   {
    "duration": 306,
    "start_time": "2022-12-27T22:38:58.804Z"
   },
   {
    "duration": 311,
    "start_time": "2022-12-27T22:39:12.206Z"
   },
   {
    "duration": 350,
    "start_time": "2022-12-27T22:40:15.304Z"
   },
   {
    "duration": 312,
    "start_time": "2022-12-27T22:40:27.155Z"
   },
   {
    "duration": 352,
    "start_time": "2022-12-27T22:40:51.504Z"
   },
   {
    "duration": 5,
    "start_time": "2022-12-27T22:41:38.558Z"
   },
   {
    "duration": 315,
    "start_time": "2022-12-27T22:41:40.611Z"
   },
   {
    "duration": 193,
    "start_time": "2022-12-27T22:42:10.904Z"
   },
   {
    "duration": 257,
    "start_time": "2022-12-27T22:43:19.030Z"
   },
   {
    "duration": 203,
    "start_time": "2022-12-27T22:45:25.772Z"
   },
   {
    "duration": 192,
    "start_time": "2022-12-27T22:45:50.203Z"
   },
   {
    "duration": 154,
    "start_time": "2022-12-27T22:59:56.738Z"
   },
   {
    "duration": 148,
    "start_time": "2022-12-27T23:00:41.350Z"
   },
   {
    "duration": 155,
    "start_time": "2022-12-27T23:01:16.116Z"
   },
   {
    "duration": 188,
    "start_time": "2022-12-27T23:01:28.601Z"
   },
   {
    "duration": 73,
    "start_time": "2022-12-27T23:02:15.545Z"
   },
   {
    "duration": 8,
    "start_time": "2022-12-27T23:02:31.543Z"
   },
   {
    "duration": 9,
    "start_time": "2022-12-27T23:03:47.430Z"
   },
   {
    "duration": 12,
    "start_time": "2022-12-27T23:04:03.244Z"
   },
   {
    "duration": 10,
    "start_time": "2022-12-27T23:04:28.114Z"
   },
   {
    "duration": 9,
    "start_time": "2022-12-27T23:04:58.904Z"
   },
   {
    "duration": 8,
    "start_time": "2022-12-27T23:06:24.040Z"
   },
   {
    "duration": 8,
    "start_time": "2022-12-27T23:06:41.463Z"
   },
   {
    "duration": 10,
    "start_time": "2022-12-27T23:07:12.414Z"
   },
   {
    "duration": 7,
    "start_time": "2022-12-27T23:07:29.501Z"
   },
   {
    "duration": 7,
    "start_time": "2022-12-27T23:07:49.350Z"
   },
   {
    "duration": 6,
    "start_time": "2022-12-27T23:08:38.352Z"
   },
   {
    "duration": 7,
    "start_time": "2022-12-27T23:09:05.652Z"
   },
   {
    "duration": 7,
    "start_time": "2022-12-27T23:09:40.382Z"
   },
   {
    "duration": 8,
    "start_time": "2022-12-27T23:09:49.800Z"
   },
   {
    "duration": 9,
    "start_time": "2022-12-27T23:11:00.401Z"
   },
   {
    "duration": 7,
    "start_time": "2022-12-27T23:11:11.467Z"
   },
   {
    "duration": 9,
    "start_time": "2022-12-27T23:11:30.624Z"
   },
   {
    "duration": 6,
    "start_time": "2022-12-27T23:13:20.399Z"
   },
   {
    "duration": 7,
    "start_time": "2022-12-27T23:13:30.603Z"
   },
   {
    "duration": 13,
    "start_time": "2022-12-27T23:16:13.802Z"
   },
   {
    "duration": 8,
    "start_time": "2022-12-27T23:16:43.487Z"
   },
   {
    "duration": 8,
    "start_time": "2022-12-27T23:17:02.215Z"
   },
   {
    "duration": 7,
    "start_time": "2022-12-27T23:17:13.654Z"
   },
   {
    "duration": 6,
    "start_time": "2022-12-27T23:17:24.328Z"
   },
   {
    "duration": 6,
    "start_time": "2022-12-27T23:17:37.449Z"
   },
   {
    "duration": 14,
    "start_time": "2022-12-27T23:26:17.037Z"
   },
   {
    "duration": 8,
    "start_time": "2022-12-27T23:27:13.721Z"
   },
   {
    "duration": 14,
    "start_time": "2022-12-27T23:27:27.609Z"
   },
   {
    "duration": 15,
    "start_time": "2022-12-27T23:27:51.979Z"
   },
   {
    "duration": 15,
    "start_time": "2022-12-27T23:28:58.567Z"
   },
   {
    "duration": 14,
    "start_time": "2022-12-27T23:29:07.782Z"
   },
   {
    "duration": 986,
    "start_time": "2022-12-27T23:33:46.755Z"
   },
   {
    "duration": 46,
    "start_time": "2022-12-27T23:34:13.302Z"
   },
   {
    "duration": 387,
    "start_time": "2022-12-27T23:34:20.004Z"
   },
   {
    "duration": 350,
    "start_time": "2022-12-27T23:34:27.565Z"
   },
   {
    "duration": 158,
    "start_time": "2022-12-27T23:35:32.583Z"
   },
   {
    "duration": 555,
    "start_time": "2022-12-27T23:38:16.299Z"
   },
   {
    "duration": 267,
    "start_time": "2022-12-27T23:38:28.352Z"
   },
   {
    "duration": 7,
    "start_time": "2022-12-27T23:39:01.929Z"
   },
   {
    "duration": 7,
    "start_time": "2022-12-27T23:39:23.581Z"
   },
   {
    "duration": 15,
    "start_time": "2022-12-27T23:41:51.408Z"
   },
   {
    "duration": 16,
    "start_time": "2022-12-27T23:43:10.869Z"
   },
   {
    "duration": 14,
    "start_time": "2022-12-27T23:44:32.903Z"
   },
   {
    "duration": 13,
    "start_time": "2022-12-27T23:46:00.098Z"
   },
   {
    "duration": 13,
    "start_time": "2022-12-27T23:46:59.601Z"
   },
   {
    "duration": 13,
    "start_time": "2022-12-27T23:47:40.329Z"
   },
   {
    "duration": 15,
    "start_time": "2022-12-27T23:48:01.400Z"
   },
   {
    "duration": 15,
    "start_time": "2022-12-27T23:49:01.414Z"
   },
   {
    "duration": 14,
    "start_time": "2022-12-27T23:49:55.030Z"
   },
   {
    "duration": 14,
    "start_time": "2022-12-27T23:50:29.442Z"
   },
   {
    "duration": 12,
    "start_time": "2022-12-27T23:50:36.902Z"
   },
   {
    "duration": 15,
    "start_time": "2022-12-27T23:50:47.503Z"
   },
   {
    "duration": 17,
    "start_time": "2022-12-27T23:51:36.210Z"
   },
   {
    "duration": 16,
    "start_time": "2022-12-27T23:51:56.314Z"
   },
   {
    "duration": 13,
    "start_time": "2022-12-27T23:52:24.509Z"
   },
   {
    "duration": 5,
    "start_time": "2022-12-27T23:52:41.745Z"
   },
   {
    "duration": 1132,
    "start_time": "2022-12-27T23:53:38.942Z"
   },
   {
    "duration": 1180,
    "start_time": "2022-12-27T23:53:47.869Z"
   },
   {
    "duration": 136,
    "start_time": "2022-12-27T23:54:08.059Z"
   },
   {
    "duration": 90,
    "start_time": "2022-12-27T23:54:19.513Z"
   },
   {
    "duration": 251,
    "start_time": "2022-12-27T23:54:35.040Z"
   },
   {
    "duration": 16,
    "start_time": "2022-12-27T23:54:40.714Z"
   },
   {
    "duration": 121,
    "start_time": "2022-12-27T23:54:48.083Z"
   },
   {
    "duration": 1165,
    "start_time": "2022-12-27T23:56:19.668Z"
   },
   {
    "duration": 15,
    "start_time": "2022-12-27T23:57:08.223Z"
   },
   {
    "duration": 12,
    "start_time": "2022-12-27T23:57:55.877Z"
   },
   {
    "duration": 18,
    "start_time": "2022-12-27T23:58:00.504Z"
   },
   {
    "duration": 1097,
    "start_time": "2022-12-27T23:58:30.984Z"
   },
   {
    "duration": 11,
    "start_time": "2022-12-28T00:02:06.346Z"
   },
   {
    "duration": 18,
    "start_time": "2022-12-28T00:02:12.619Z"
   },
   {
    "duration": 120,
    "start_time": "2022-12-28T00:02:32.037Z"
   },
   {
    "duration": 118,
    "start_time": "2022-12-28T00:02:42.982Z"
   },
   {
    "duration": 135,
    "start_time": "2022-12-28T00:04:58.237Z"
   },
   {
    "duration": 146,
    "start_time": "2022-12-28T00:05:26.427Z"
   },
   {
    "duration": 140,
    "start_time": "2022-12-28T00:07:30.293Z"
   },
   {
    "duration": 152,
    "start_time": "2022-12-28T00:07:49.816Z"
   },
   {
    "duration": 144,
    "start_time": "2022-12-28T00:07:57.845Z"
   },
   {
    "duration": 142,
    "start_time": "2022-12-28T00:08:15.774Z"
   },
   {
    "duration": 18,
    "start_time": "2022-12-28T00:08:30.998Z"
   },
   {
    "duration": 1116,
    "start_time": "2022-12-28T00:09:23.893Z"
   },
   {
    "duration": 12,
    "start_time": "2022-12-28T00:10:07.884Z"
   },
   {
    "duration": 217,
    "start_time": "2022-12-28T00:10:10.570Z"
   },
   {
    "duration": 11,
    "start_time": "2022-12-28T00:12:03.233Z"
   },
   {
    "duration": 70,
    "start_time": "2022-12-28T00:12:56.111Z"
   },
   {
    "duration": 11,
    "start_time": "2022-12-28T00:12:58.462Z"
   },
   {
    "duration": 1196,
    "start_time": "2022-12-28T00:13:06.574Z"
   },
   {
    "duration": 15,
    "start_time": "2022-12-28T00:13:20.771Z"
   },
   {
    "duration": 139,
    "start_time": "2022-12-28T00:13:22.769Z"
   },
   {
    "duration": 125,
    "start_time": "2022-12-28T00:14:21.912Z"
   },
   {
    "duration": 133,
    "start_time": "2022-12-28T00:14:44.991Z"
   },
   {
    "duration": 132,
    "start_time": "2022-12-28T00:15:30.425Z"
   },
   {
    "duration": 131,
    "start_time": "2022-12-28T00:17:20.245Z"
   },
   {
    "duration": 158,
    "start_time": "2022-12-28T00:17:35.454Z"
   },
   {
    "duration": 132,
    "start_time": "2022-12-28T00:17:53.610Z"
   },
   {
    "duration": 149,
    "start_time": "2022-12-28T00:18:15.059Z"
   },
   {
    "duration": 146,
    "start_time": "2022-12-28T00:18:28.809Z"
   },
   {
    "duration": 138,
    "start_time": "2022-12-28T00:19:06.672Z"
   },
   {
    "duration": 138,
    "start_time": "2022-12-28T00:20:02.524Z"
   },
   {
    "duration": 12,
    "start_time": "2022-12-28T00:22:59.451Z"
   },
   {
    "duration": 4,
    "start_time": "2022-12-28T00:23:31.906Z"
   },
   {
    "duration": 9,
    "start_time": "2022-12-28T00:23:34.082Z"
   },
   {
    "duration": 12,
    "start_time": "2022-12-28T00:23:39.656Z"
   },
   {
    "duration": 1191,
    "start_time": "2022-12-28T00:24:27.792Z"
   },
   {
    "duration": 149,
    "start_time": "2022-12-28T00:24:43.227Z"
   },
   {
    "duration": 137,
    "start_time": "2022-12-28T00:25:33.912Z"
   },
   {
    "duration": 225,
    "start_time": "2022-12-28T00:25:41.834Z"
   },
   {
    "duration": 129,
    "start_time": "2022-12-28T00:28:59.764Z"
   },
   {
    "duration": 120,
    "start_time": "2022-12-28T00:29:27.151Z"
   },
   {
    "duration": 139,
    "start_time": "2022-12-28T00:29:52.880Z"
   },
   {
    "duration": 129,
    "start_time": "2022-12-28T00:30:42.371Z"
   },
   {
    "duration": 147,
    "start_time": "2022-12-28T00:31:21.683Z"
   },
   {
    "duration": 140,
    "start_time": "2022-12-28T00:31:34.359Z"
   },
   {
    "duration": 134,
    "start_time": "2022-12-28T00:32:03.730Z"
   },
   {
    "duration": 5,
    "start_time": "2022-12-28T00:34:07.094Z"
   },
   {
    "duration": 6,
    "start_time": "2022-12-28T00:34:24.751Z"
   },
   {
    "duration": 9,
    "start_time": "2022-12-28T00:34:58.057Z"
   },
   {
    "duration": 7,
    "start_time": "2022-12-28T00:35:11.994Z"
   },
   {
    "duration": 9,
    "start_time": "2022-12-28T00:35:19.706Z"
   },
   {
    "duration": 123,
    "start_time": "2022-12-28T00:35:46.455Z"
   },
   {
    "duration": 7,
    "start_time": "2022-12-28T00:36:30.781Z"
   },
   {
    "duration": 7,
    "start_time": "2022-12-28T00:36:56.607Z"
   },
   {
    "duration": 9,
    "start_time": "2022-12-28T00:37:29.623Z"
   },
   {
    "duration": 8,
    "start_time": "2022-12-28T00:37:43.476Z"
   },
   {
    "duration": 142,
    "start_time": "2022-12-28T00:38:07.310Z"
   },
   {
    "duration": 140,
    "start_time": "2022-12-28T00:39:34.486Z"
   },
   {
    "duration": 143,
    "start_time": "2022-12-28T00:39:41.359Z"
   },
   {
    "duration": 144,
    "start_time": "2022-12-28T00:39:47.232Z"
   },
   {
    "duration": 131,
    "start_time": "2022-12-28T00:39:50.434Z"
   },
   {
    "duration": 19,
    "start_time": "2022-12-28T00:45:57.860Z"
   },
   {
    "duration": 17,
    "start_time": "2022-12-28T00:46:30.951Z"
   },
   {
    "duration": 18,
    "start_time": "2022-12-28T00:46:43.807Z"
   },
   {
    "duration": 17,
    "start_time": "2022-12-28T00:47:07.255Z"
   },
   {
    "duration": 450,
    "start_time": "2022-12-28T00:47:31.457Z"
   },
   {
    "duration": 23,
    "start_time": "2022-12-28T00:47:31.909Z"
   },
   {
    "duration": 15,
    "start_time": "2022-12-28T00:47:31.933Z"
   },
   {
    "duration": 13,
    "start_time": "2022-12-28T00:47:31.951Z"
   },
   {
    "duration": 32,
    "start_time": "2022-12-28T00:47:31.966Z"
   },
   {
    "duration": 4,
    "start_time": "2022-12-28T00:47:31.999Z"
   },
   {
    "duration": 9,
    "start_time": "2022-12-28T00:47:32.025Z"
   },
   {
    "duration": 12,
    "start_time": "2022-12-28T00:47:32.035Z"
   },
   {
    "duration": 13,
    "start_time": "2022-12-28T00:47:32.049Z"
   },
   {
    "duration": 7,
    "start_time": "2022-12-28T00:47:32.065Z"
   },
   {
    "duration": 38,
    "start_time": "2022-12-28T00:47:32.073Z"
   },
   {
    "duration": 14,
    "start_time": "2022-12-28T00:47:32.113Z"
   },
   {
    "duration": 12,
    "start_time": "2022-12-28T00:47:32.129Z"
   },
   {
    "duration": 24,
    "start_time": "2022-12-28T00:47:32.143Z"
   },
   {
    "duration": 26,
    "start_time": "2022-12-28T00:47:32.169Z"
   },
   {
    "duration": 16,
    "start_time": "2022-12-28T00:47:32.196Z"
   },
   {
    "duration": 13,
    "start_time": "2022-12-28T00:47:32.213Z"
   },
   {
    "duration": 24,
    "start_time": "2022-12-28T00:47:32.228Z"
   },
   {
    "duration": 10,
    "start_time": "2022-12-28T00:47:32.254Z"
   },
   {
    "duration": 7,
    "start_time": "2022-12-28T00:47:32.266Z"
   },
   {
    "duration": 41,
    "start_time": "2022-12-28T00:47:32.274Z"
   },
   {
    "duration": 37,
    "start_time": "2022-12-28T00:47:32.317Z"
   },
   {
    "duration": 821,
    "start_time": "2022-12-28T00:47:32.355Z"
   },
   {
    "duration": 17,
    "start_time": "2022-12-28T00:47:33.178Z"
   },
   {
    "duration": 153,
    "start_time": "2022-12-28T00:47:33.197Z"
   },
   {
    "duration": 18,
    "start_time": "2022-12-28T00:47:33.352Z"
   },
   {
    "duration": 1705,
    "start_time": "2022-12-28T00:47:33.372Z"
   },
   {
    "duration": 0,
    "start_time": "2022-12-28T00:47:35.078Z"
   },
   {
    "duration": 0,
    "start_time": "2022-12-28T00:47:35.080Z"
   },
   {
    "duration": 478,
    "start_time": "2022-12-28T00:48:25.531Z"
   },
   {
    "duration": 23,
    "start_time": "2022-12-28T00:48:26.011Z"
   },
   {
    "duration": 24,
    "start_time": "2022-12-28T00:48:26.036Z"
   },
   {
    "duration": 9,
    "start_time": "2022-12-28T00:48:26.063Z"
   },
   {
    "duration": 34,
    "start_time": "2022-12-28T00:48:26.074Z"
   },
   {
    "duration": 19,
    "start_time": "2022-12-28T00:48:26.109Z"
   },
   {
    "duration": 19,
    "start_time": "2022-12-28T00:48:26.130Z"
   },
   {
    "duration": 5,
    "start_time": "2022-12-28T00:48:26.151Z"
   },
   {
    "duration": 15,
    "start_time": "2022-12-28T00:48:26.157Z"
   },
   {
    "duration": 5,
    "start_time": "2022-12-28T00:48:26.175Z"
   },
   {
    "duration": 48,
    "start_time": "2022-12-28T00:48:26.181Z"
   },
   {
    "duration": 9,
    "start_time": "2022-12-28T00:48:26.231Z"
   },
   {
    "duration": 6,
    "start_time": "2022-12-28T00:48:26.241Z"
   },
   {
    "duration": 14,
    "start_time": "2022-12-28T00:48:26.248Z"
   },
   {
    "duration": 18,
    "start_time": "2022-12-28T00:48:26.264Z"
   },
   {
    "duration": 45,
    "start_time": "2022-12-28T00:48:26.284Z"
   },
   {
    "duration": 4,
    "start_time": "2022-12-28T00:48:26.331Z"
   },
   {
    "duration": 13,
    "start_time": "2022-12-28T00:48:26.336Z"
   },
   {
    "duration": 5,
    "start_time": "2022-12-28T00:48:26.351Z"
   },
   {
    "duration": 4,
    "start_time": "2022-12-28T00:48:26.358Z"
   },
   {
    "duration": 12,
    "start_time": "2022-12-28T00:48:26.363Z"
   },
   {
    "duration": 17,
    "start_time": "2022-12-28T00:48:26.376Z"
   },
   {
    "duration": 902,
    "start_time": "2022-12-28T00:48:26.395Z"
   },
   {
    "duration": 20,
    "start_time": "2022-12-28T00:48:27.299Z"
   },
   {
    "duration": 173,
    "start_time": "2022-12-28T00:48:27.326Z"
   },
   {
    "duration": 28,
    "start_time": "2022-12-28T00:48:27.501Z"
   },
   {
    "duration": 147,
    "start_time": "2022-12-28T00:48:27.531Z"
   },
   {
    "duration": 18,
    "start_time": "2022-12-28T00:48:27.681Z"
   },
   {
    "duration": 147,
    "start_time": "2022-12-28T00:48:27.701Z"
   },
   {
    "duration": 68,
    "start_time": "2022-12-28T17:44:20.026Z"
   },
   {
    "duration": 577,
    "start_time": "2022-12-28T17:46:25.204Z"
   },
   {
    "duration": 25,
    "start_time": "2022-12-28T17:46:25.783Z"
   },
   {
    "duration": 19,
    "start_time": "2022-12-28T17:46:25.812Z"
   },
   {
    "duration": 23,
    "start_time": "2022-12-28T17:46:25.833Z"
   },
   {
    "duration": 39,
    "start_time": "2022-12-28T17:46:25.858Z"
   },
   {
    "duration": 5,
    "start_time": "2022-12-28T17:46:25.899Z"
   },
   {
    "duration": 14,
    "start_time": "2022-12-28T17:46:25.906Z"
   },
   {
    "duration": 5,
    "start_time": "2022-12-28T17:46:25.922Z"
   },
   {
    "duration": 29,
    "start_time": "2022-12-28T17:46:25.930Z"
   },
   {
    "duration": 6,
    "start_time": "2022-12-28T17:46:25.961Z"
   },
   {
    "duration": 49,
    "start_time": "2022-12-28T17:46:25.968Z"
   },
   {
    "duration": 40,
    "start_time": "2022-12-28T17:46:26.019Z"
   },
   {
    "duration": 4,
    "start_time": "2022-12-28T17:46:26.061Z"
   },
   {
    "duration": 15,
    "start_time": "2022-12-28T17:46:26.067Z"
   },
   {
    "duration": 23,
    "start_time": "2022-12-28T17:46:26.084Z"
   },
   {
    "duration": 43,
    "start_time": "2022-12-28T17:46:26.109Z"
   },
   {
    "duration": 3,
    "start_time": "2022-12-28T17:46:26.155Z"
   },
   {
    "duration": 16,
    "start_time": "2022-12-28T17:46:26.160Z"
   },
   {
    "duration": 19,
    "start_time": "2022-12-28T17:46:26.177Z"
   },
   {
    "duration": 17,
    "start_time": "2022-12-28T17:46:26.200Z"
   },
   {
    "duration": 18,
    "start_time": "2022-12-28T17:46:26.219Z"
   },
   {
    "duration": 89,
    "start_time": "2022-12-28T17:46:26.239Z"
   },
   {
    "duration": 0,
    "start_time": "2022-12-28T17:46:26.330Z"
   },
   {
    "duration": 0,
    "start_time": "2022-12-28T17:46:26.332Z"
   },
   {
    "duration": 0,
    "start_time": "2022-12-28T17:46:26.333Z"
   },
   {
    "duration": 0,
    "start_time": "2022-12-28T17:46:26.335Z"
   },
   {
    "duration": 0,
    "start_time": "2022-12-28T17:46:26.351Z"
   },
   {
    "duration": 0,
    "start_time": "2022-12-28T17:46:26.352Z"
   },
   {
    "duration": 0,
    "start_time": "2022-12-28T17:46:26.353Z"
   },
   {
    "duration": 0,
    "start_time": "2022-12-28T17:46:26.354Z"
   },
   {
    "duration": 500,
    "start_time": "2022-12-28T17:49:02.088Z"
   },
   {
    "duration": 27,
    "start_time": "2022-12-28T17:49:02.589Z"
   },
   {
    "duration": 20,
    "start_time": "2022-12-28T17:49:02.618Z"
   },
   {
    "duration": 27,
    "start_time": "2022-12-28T17:49:02.650Z"
   },
   {
    "duration": 57,
    "start_time": "2022-12-28T17:49:02.679Z"
   },
   {
    "duration": 4,
    "start_time": "2022-12-28T17:49:02.738Z"
   },
   {
    "duration": 33,
    "start_time": "2022-12-28T17:49:02.744Z"
   },
   {
    "duration": 25,
    "start_time": "2022-12-28T17:49:02.778Z"
   },
   {
    "duration": 22,
    "start_time": "2022-12-28T17:49:02.805Z"
   },
   {
    "duration": 26,
    "start_time": "2022-12-28T17:49:02.831Z"
   },
   {
    "duration": 68,
    "start_time": "2022-12-28T17:49:02.859Z"
   },
   {
    "duration": 13,
    "start_time": "2022-12-28T17:49:02.929Z"
   },
   {
    "duration": 30,
    "start_time": "2022-12-28T17:49:02.944Z"
   },
   {
    "duration": 32,
    "start_time": "2022-12-28T17:49:02.976Z"
   },
   {
    "duration": 57,
    "start_time": "2022-12-28T17:49:03.011Z"
   },
   {
    "duration": 27,
    "start_time": "2022-12-28T17:49:03.070Z"
   },
   {
    "duration": 5,
    "start_time": "2022-12-28T17:49:03.099Z"
   },
   {
    "duration": 45,
    "start_time": "2022-12-28T17:49:03.106Z"
   },
   {
    "duration": 19,
    "start_time": "2022-12-28T17:49:03.154Z"
   },
   {
    "duration": 31,
    "start_time": "2022-12-28T17:49:03.175Z"
   },
   {
    "duration": 45,
    "start_time": "2022-12-28T17:49:03.208Z"
   },
   {
    "duration": 107,
    "start_time": "2022-12-28T17:49:03.255Z"
   },
   {
    "duration": 0,
    "start_time": "2022-12-28T17:49:03.364Z"
   },
   {
    "duration": 0,
    "start_time": "2022-12-28T17:49:03.365Z"
   },
   {
    "duration": 0,
    "start_time": "2022-12-28T17:49:03.367Z"
   },
   {
    "duration": 0,
    "start_time": "2022-12-28T17:49:03.368Z"
   },
   {
    "duration": 0,
    "start_time": "2022-12-28T17:49:03.369Z"
   },
   {
    "duration": 0,
    "start_time": "2022-12-28T17:49:03.370Z"
   },
   {
    "duration": 0,
    "start_time": "2022-12-28T17:49:03.371Z"
   },
   {
    "duration": 0,
    "start_time": "2022-12-28T17:49:03.372Z"
   },
   {
    "duration": 12,
    "start_time": "2022-12-28T17:57:14.029Z"
   },
   {
    "duration": 93,
    "start_time": "2022-12-28T17:59:56.549Z"
   },
   {
    "duration": 6,
    "start_time": "2022-12-28T18:00:17.029Z"
   },
   {
    "duration": 10,
    "start_time": "2022-12-28T18:00:41.193Z"
   },
   {
    "duration": 10,
    "start_time": "2022-12-28T18:00:47.747Z"
   },
   {
    "duration": 7,
    "start_time": "2022-12-28T18:02:46.738Z"
   },
   {
    "duration": 540,
    "start_time": "2022-12-28T18:03:11.251Z"
   },
   {
    "duration": 33,
    "start_time": "2022-12-28T18:03:11.794Z"
   },
   {
    "duration": 31,
    "start_time": "2022-12-28T18:03:11.829Z"
   },
   {
    "duration": 11,
    "start_time": "2022-12-28T18:03:11.864Z"
   },
   {
    "duration": 57,
    "start_time": "2022-12-28T18:03:11.877Z"
   },
   {
    "duration": 5,
    "start_time": "2022-12-28T18:03:11.952Z"
   },
   {
    "duration": 18,
    "start_time": "2022-12-28T18:03:11.959Z"
   },
   {
    "duration": 5,
    "start_time": "2022-12-28T18:03:11.979Z"
   },
   {
    "duration": 12,
    "start_time": "2022-12-28T18:03:11.986Z"
   },
   {
    "duration": 6,
    "start_time": "2022-12-28T18:03:12.003Z"
   },
   {
    "duration": 67,
    "start_time": "2022-12-28T18:03:12.014Z"
   },
   {
    "duration": 11,
    "start_time": "2022-12-28T18:03:12.083Z"
   },
   {
    "duration": 5,
    "start_time": "2022-12-28T18:03:12.096Z"
   },
   {
    "duration": 17,
    "start_time": "2022-12-28T18:03:12.103Z"
   },
   {
    "duration": 42,
    "start_time": "2022-12-28T18:03:12.122Z"
   },
   {
    "duration": 25,
    "start_time": "2022-12-28T18:03:12.167Z"
   },
   {
    "duration": 5,
    "start_time": "2022-12-28T18:03:12.194Z"
   },
   {
    "duration": 29,
    "start_time": "2022-12-28T18:03:12.201Z"
   },
   {
    "duration": 21,
    "start_time": "2022-12-28T18:03:12.233Z"
   },
   {
    "duration": 11,
    "start_time": "2022-12-28T18:03:12.257Z"
   },
   {
    "duration": 76,
    "start_time": "2022-12-28T18:03:12.270Z"
   },
   {
    "duration": 15,
    "start_time": "2022-12-28T18:03:12.348Z"
   },
   {
    "duration": 32,
    "start_time": "2022-12-28T18:03:12.365Z"
   },
   {
    "duration": 1255,
    "start_time": "2022-12-28T18:03:12.399Z"
   },
   {
    "duration": 25,
    "start_time": "2022-12-28T18:03:13.656Z"
   },
   {
    "duration": 250,
    "start_time": "2022-12-28T18:03:13.684Z"
   },
   {
    "duration": 29,
    "start_time": "2022-12-28T18:03:13.936Z"
   },
   {
    "duration": 194,
    "start_time": "2022-12-28T18:03:13.969Z"
   },
   {
    "duration": 25,
    "start_time": "2022-12-28T18:03:14.166Z"
   },
   {
    "duration": 192,
    "start_time": "2022-12-28T18:03:14.194Z"
   },
   {
    "duration": 6,
    "start_time": "2022-12-28T18:16:51.841Z"
   },
   {
    "duration": 14,
    "start_time": "2022-12-28T18:17:21.587Z"
   },
   {
    "duration": 21,
    "start_time": "2022-12-28T18:18:10.709Z"
   },
   {
    "duration": 6,
    "start_time": "2022-12-28T18:20:03.128Z"
   },
   {
    "duration": 20,
    "start_time": "2022-12-28T18:20:04.632Z"
   },
   {
    "duration": 20,
    "start_time": "2022-12-28T18:20:05.289Z"
   },
   {
    "duration": 5,
    "start_time": "2022-12-28T18:21:52.139Z"
   },
   {
    "duration": 5,
    "start_time": "2022-12-28T18:21:59.881Z"
   },
   {
    "duration": 23,
    "start_time": "2022-12-28T18:22:01.730Z"
   },
   {
    "duration": 22,
    "start_time": "2022-12-28T18:22:02.161Z"
   },
   {
    "duration": 260,
    "start_time": "2022-12-28T18:22:52.163Z"
   },
   {
    "duration": 368,
    "start_time": "2022-12-28T18:23:33.020Z"
   },
   {
    "duration": 247,
    "start_time": "2022-12-28T18:23:59.338Z"
   },
   {
    "duration": 503,
    "start_time": "2022-12-28T18:24:24.488Z"
   },
   {
    "duration": 24,
    "start_time": "2022-12-28T18:24:24.993Z"
   },
   {
    "duration": 16,
    "start_time": "2022-12-28T18:24:25.018Z"
   },
   {
    "duration": 11,
    "start_time": "2022-12-28T18:24:25.051Z"
   },
   {
    "duration": 35,
    "start_time": "2022-12-28T18:24:25.063Z"
   },
   {
    "duration": 4,
    "start_time": "2022-12-28T18:24:25.100Z"
   },
   {
    "duration": 21,
    "start_time": "2022-12-28T18:24:25.106Z"
   },
   {
    "duration": 23,
    "start_time": "2022-12-28T18:24:25.128Z"
   },
   {
    "duration": 8,
    "start_time": "2022-12-28T18:24:25.153Z"
   },
   {
    "duration": 5,
    "start_time": "2022-12-28T18:24:25.165Z"
   },
   {
    "duration": 45,
    "start_time": "2022-12-28T18:24:25.172Z"
   },
   {
    "duration": 36,
    "start_time": "2022-12-28T18:24:25.218Z"
   },
   {
    "duration": 4,
    "start_time": "2022-12-28T18:24:25.256Z"
   },
   {
    "duration": 13,
    "start_time": "2022-12-28T18:24:25.261Z"
   },
   {
    "duration": 21,
    "start_time": "2022-12-28T18:24:25.276Z"
   },
   {
    "duration": 18,
    "start_time": "2022-12-28T18:24:25.299Z"
   },
   {
    "duration": 33,
    "start_time": "2022-12-28T18:24:25.318Z"
   },
   {
    "duration": 13,
    "start_time": "2022-12-28T18:24:25.353Z"
   },
   {
    "duration": 13,
    "start_time": "2022-12-28T18:24:25.367Z"
   },
   {
    "duration": 4,
    "start_time": "2022-12-28T18:24:25.382Z"
   },
   {
    "duration": 25,
    "start_time": "2022-12-28T18:24:25.388Z"
   },
   {
    "duration": 17,
    "start_time": "2022-12-28T18:24:25.416Z"
   },
   {
    "duration": 30,
    "start_time": "2022-12-28T18:24:25.435Z"
   },
   {
    "duration": 967,
    "start_time": "2022-12-28T18:24:25.468Z"
   },
   {
    "duration": 23,
    "start_time": "2022-12-28T18:24:26.438Z"
   },
   {
    "duration": 168,
    "start_time": "2022-12-28T18:24:26.462Z"
   },
   {
    "duration": 32,
    "start_time": "2022-12-28T18:24:26.633Z"
   },
   {
    "duration": 168,
    "start_time": "2022-12-28T18:24:26.669Z"
   },
   {
    "duration": 5,
    "start_time": "2022-12-28T18:24:26.839Z"
   },
   {
    "duration": 22,
    "start_time": "2022-12-28T18:24:26.851Z"
   },
   {
    "duration": 24,
    "start_time": "2022-12-28T18:24:26.875Z"
   },
   {
    "duration": 241,
    "start_time": "2022-12-28T18:24:26.901Z"
   },
   {
    "duration": 19,
    "start_time": "2022-12-28T18:24:27.151Z"
   },
   {
    "duration": 150,
    "start_time": "2022-12-28T18:24:27.172Z"
   },
   {
    "duration": 227,
    "start_time": "2022-12-28T18:24:54.829Z"
   },
   {
    "duration": 26,
    "start_time": "2022-12-28T18:41:08.037Z"
   },
   {
    "duration": 17,
    "start_time": "2022-12-28T18:41:33.997Z"
   },
   {
    "duration": 408,
    "start_time": "2022-12-28T18:51:42.208Z"
   },
   {
    "duration": 435,
    "start_time": "2022-12-28T18:52:10.265Z"
   },
   {
    "duration": 454,
    "start_time": "2022-12-28T18:55:39.732Z"
   },
   {
    "duration": 512,
    "start_time": "2022-12-28T18:55:58.874Z"
   },
   {
    "duration": 16,
    "start_time": "2022-12-28T18:56:58.816Z"
   },
   {
    "duration": 265,
    "start_time": "2022-12-28T19:00:09.209Z"
   },
   {
    "duration": 9,
    "start_time": "2022-12-28T19:08:59.362Z"
   },
   {
    "duration": 6,
    "start_time": "2022-12-28T19:09:09.120Z"
   },
   {
    "duration": 31,
    "start_time": "2022-12-28T19:09:17.540Z"
   },
   {
    "duration": 183,
    "start_time": "2022-12-28T19:30:39.439Z"
   },
   {
    "duration": 285,
    "start_time": "2022-12-28T19:35:30.941Z"
   },
   {
    "duration": 293,
    "start_time": "2022-12-28T19:35:52.844Z"
   },
   {
    "duration": 289,
    "start_time": "2022-12-28T19:36:48.775Z"
   },
   {
    "duration": 554,
    "start_time": "2022-12-28T19:37:31.042Z"
   },
   {
    "duration": 26,
    "start_time": "2022-12-28T19:37:31.598Z"
   },
   {
    "duration": 44,
    "start_time": "2022-12-28T19:37:31.626Z"
   },
   {
    "duration": 17,
    "start_time": "2022-12-28T19:37:31.672Z"
   },
   {
    "duration": 67,
    "start_time": "2022-12-28T19:37:31.692Z"
   },
   {
    "duration": 6,
    "start_time": "2022-12-28T19:37:31.767Z"
   },
   {
    "duration": 27,
    "start_time": "2022-12-28T19:37:31.775Z"
   },
   {
    "duration": 17,
    "start_time": "2022-12-28T19:37:31.805Z"
   },
   {
    "duration": 26,
    "start_time": "2022-12-28T19:37:31.824Z"
   },
   {
    "duration": 50,
    "start_time": "2022-12-28T19:37:31.852Z"
   },
   {
    "duration": 44,
    "start_time": "2022-12-28T19:37:31.904Z"
   },
   {
    "duration": 22,
    "start_time": "2022-12-28T19:37:31.950Z"
   },
   {
    "duration": 16,
    "start_time": "2022-12-28T19:37:31.974Z"
   },
   {
    "duration": 20,
    "start_time": "2022-12-28T19:37:31.994Z"
   },
   {
    "duration": 22,
    "start_time": "2022-12-28T19:37:32.016Z"
   },
   {
    "duration": 40,
    "start_time": "2022-12-28T19:37:32.040Z"
   },
   {
    "duration": 9,
    "start_time": "2022-12-28T19:37:32.082Z"
   },
   {
    "duration": 20,
    "start_time": "2022-12-28T19:37:32.092Z"
   },
   {
    "duration": 17,
    "start_time": "2022-12-28T19:37:32.113Z"
   },
   {
    "duration": 16,
    "start_time": "2022-12-28T19:37:32.132Z"
   },
   {
    "duration": 46,
    "start_time": "2022-12-28T19:37:32.150Z"
   },
   {
    "duration": 33,
    "start_time": "2022-12-28T19:37:32.198Z"
   },
   {
    "duration": 30,
    "start_time": "2022-12-28T19:37:32.233Z"
   },
   {
    "duration": 1094,
    "start_time": "2022-12-28T19:37:32.265Z"
   },
   {
    "duration": 27,
    "start_time": "2022-12-28T19:37:33.360Z"
   },
   {
    "duration": 296,
    "start_time": "2022-12-28T19:37:33.390Z"
   },
   {
    "duration": 23,
    "start_time": "2022-12-28T19:37:33.689Z"
   },
   {
    "duration": 301,
    "start_time": "2022-12-28T19:37:33.714Z"
   },
   {
    "duration": 5,
    "start_time": "2022-12-28T19:37:34.017Z"
   },
   {
    "duration": 43,
    "start_time": "2022-12-28T19:37:34.024Z"
   },
   {
    "duration": 29,
    "start_time": "2022-12-28T19:37:34.069Z"
   },
   {
    "duration": 405,
    "start_time": "2022-12-28T19:37:34.100Z"
   },
   {
    "duration": 22,
    "start_time": "2022-12-28T19:37:34.507Z"
   },
   {
    "duration": 300,
    "start_time": "2022-12-28T19:37:34.530Z"
   },
   {
    "duration": 6,
    "start_time": "2022-12-28T19:54:51.277Z"
   },
   {
    "duration": 14,
    "start_time": "2022-12-28T19:54:53.674Z"
   },
   {
    "duration": 23,
    "start_time": "2022-12-28T19:54:54.489Z"
   },
   {
    "duration": 407,
    "start_time": "2022-12-28T19:54:59.626Z"
   },
   {
    "duration": 61,
    "start_time": "2022-12-28T20:15:11.152Z"
   },
   {
    "duration": 32,
    "start_time": "2022-12-28T20:15:37.838Z"
   },
   {
    "duration": 28,
    "start_time": "2022-12-28T20:15:57.278Z"
   },
   {
    "duration": 32,
    "start_time": "2022-12-28T20:18:17.461Z"
   },
   {
    "duration": 41,
    "start_time": "2022-12-28T20:21:57.626Z"
   },
   {
    "duration": 15,
    "start_time": "2022-12-28T20:22:18.487Z"
   },
   {
    "duration": 16,
    "start_time": "2022-12-28T20:22:31.249Z"
   },
   {
    "duration": 16,
    "start_time": "2022-12-28T20:22:51.774Z"
   },
   {
    "duration": 18,
    "start_time": "2022-12-28T20:23:22.175Z"
   },
   {
    "duration": 163,
    "start_time": "2022-12-28T20:28:38.385Z"
   },
   {
    "duration": 203,
    "start_time": "2022-12-28T20:29:30.484Z"
   },
   {
    "duration": 323,
    "start_time": "2022-12-28T20:32:17.087Z"
   },
   {
    "duration": 373,
    "start_time": "2022-12-28T20:32:52.709Z"
   },
   {
    "duration": 324,
    "start_time": "2022-12-28T20:33:40.343Z"
   },
   {
    "duration": 28,
    "start_time": "2022-12-28T21:35:53.556Z"
   },
   {
    "duration": 166,
    "start_time": "2022-12-28T21:50:17.339Z"
   },
   {
    "duration": 233,
    "start_time": "2022-12-28T21:50:18.960Z"
   },
   {
    "duration": 154,
    "start_time": "2022-12-28T21:53:46.171Z"
   },
   {
    "duration": 230,
    "start_time": "2022-12-28T21:53:52.862Z"
   },
   {
    "duration": 583,
    "start_time": "2022-12-28T22:33:19.729Z"
   },
   {
    "duration": 24,
    "start_time": "2022-12-28T22:33:20.314Z"
   },
   {
    "duration": 27,
    "start_time": "2022-12-28T22:33:20.350Z"
   },
   {
    "duration": 12,
    "start_time": "2022-12-28T22:33:20.380Z"
   },
   {
    "duration": 58,
    "start_time": "2022-12-28T22:33:20.393Z"
   },
   {
    "duration": 5,
    "start_time": "2022-12-28T22:33:20.453Z"
   },
   {
    "duration": 26,
    "start_time": "2022-12-28T22:33:20.461Z"
   },
   {
    "duration": 15,
    "start_time": "2022-12-28T22:33:20.489Z"
   },
   {
    "duration": 22,
    "start_time": "2022-12-28T22:33:20.506Z"
   },
   {
    "duration": 6,
    "start_time": "2022-12-28T22:33:20.531Z"
   },
   {
    "duration": 77,
    "start_time": "2022-12-28T22:33:20.538Z"
   },
   {
    "duration": 15,
    "start_time": "2022-12-28T22:33:20.618Z"
   },
   {
    "duration": 13,
    "start_time": "2022-12-28T22:33:20.635Z"
   },
   {
    "duration": 36,
    "start_time": "2022-12-28T22:33:20.650Z"
   },
   {
    "duration": 36,
    "start_time": "2022-12-28T22:33:20.688Z"
   },
   {
    "duration": 20,
    "start_time": "2022-12-28T22:33:20.726Z"
   },
   {
    "duration": 4,
    "start_time": "2022-12-28T22:33:20.748Z"
   },
   {
    "duration": 18,
    "start_time": "2022-12-28T22:33:20.755Z"
   },
   {
    "duration": 35,
    "start_time": "2022-12-28T22:33:20.776Z"
   },
   {
    "duration": 15,
    "start_time": "2022-12-28T22:33:20.813Z"
   },
   {
    "duration": 21,
    "start_time": "2022-12-28T22:33:20.831Z"
   },
   {
    "duration": 17,
    "start_time": "2022-12-28T22:33:20.860Z"
   },
   {
    "duration": 22,
    "start_time": "2022-12-28T22:33:20.878Z"
   },
   {
    "duration": 1142,
    "start_time": "2022-12-28T22:33:20.902Z"
   },
   {
    "duration": 25,
    "start_time": "2022-12-28T22:33:22.051Z"
   },
   {
    "duration": 278,
    "start_time": "2022-12-28T22:33:22.078Z"
   },
   {
    "duration": 25,
    "start_time": "2022-12-28T22:33:22.359Z"
   },
   {
    "duration": 274,
    "start_time": "2022-12-28T22:33:22.387Z"
   },
   {
    "duration": 7,
    "start_time": "2022-12-28T22:33:22.664Z"
   },
   {
    "duration": 40,
    "start_time": "2022-12-28T22:33:22.673Z"
   },
   {
    "duration": 25,
    "start_time": "2022-12-28T22:33:22.715Z"
   },
   {
    "duration": 362,
    "start_time": "2022-12-28T22:33:22.742Z"
   },
   {
    "duration": 21,
    "start_time": "2022-12-28T22:33:23.106Z"
   },
   {
    "duration": 304,
    "start_time": "2022-12-28T22:33:23.129Z"
   },
   {
    "duration": 54,
    "start_time": "2022-12-28T22:33:23.435Z"
   },
   {
    "duration": 14,
    "start_time": "2022-12-28T22:33:23.491Z"
   },
   {
    "duration": 246,
    "start_time": "2022-12-28T22:33:23.507Z"
   },
   {
    "duration": 167,
    "start_time": "2022-12-28T22:33:23.756Z"
   }
  ],
  "colab": {
   "name": "dpp_template_part2.ipynb",
   "provenance": []
  },
  "kernelspec": {
   "display_name": "Python 3 (ipykernel)",
   "language": "python",
   "name": "python3"
  },
  "language_info": {
   "codemirror_mode": {
    "name": "ipython",
    "version": 3
   },
   "file_extension": ".py",
   "mimetype": "text/x-python",
   "name": "python",
   "nbconvert_exporter": "python",
   "pygments_lexer": "ipython3",
   "version": "3.9.5"
  },
  "toc": {
   "base_numbering": 1,
   "nav_menu": {},
   "number_sections": true,
   "sideBar": true,
   "skip_h1_title": true,
   "title_cell": "Table of Contents",
   "title_sidebar": "Contents",
   "toc_cell": false,
   "toc_position": {},
   "toc_section_display": true,
   "toc_window_display": false
  }
 },
 "nbformat": 4,
 "nbformat_minor": 5
}
